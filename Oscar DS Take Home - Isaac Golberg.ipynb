{
 "cells": [
  {
   "cell_type": "markdown",
   "id": "01cd123e",
   "metadata": {},
   "source": [
    "# Oscar Data Science Take Home\n",
    "By Isaac Golberg  \n",
    "Last Edited: August 3, 2023"
   ]
  },
  {
   "cell_type": "markdown",
   "id": "b09bf1d2",
   "metadata": {},
   "source": [
    "## Goal\n",
    "\n",
    "Infer member health issues using diagnosis and prescription drugs, a model which can generalize to other data points.\n",
    "Can be used to detect who is not receiving required medical care or unusual care patterns."
   ]
  },
  {
   "cell_type": "markdown",
   "id": "b3a8aa05",
   "metadata": {},
   "source": [
    "## Data\n",
    "\n",
    "According to the pdf, the data is over 200,000 members over a three year period (will verify through EDA).\n",
    "\n",
    "#### claim_lines\n",
    "Diagnosis code given to a member on a given day. \n",
    "\n",
    "Note: Diagnosis codes are in ICD-10 format\n",
    "\n",
    "#### ccs\n",
    "Mapping table for diagnosis code to higher level clinical categories.\n",
    "\n",
    "ccs_1_desc has lowest unique value count so most likely highest level.\n",
    "\n",
    "ccs_3_desc has highest unique value count so most likely the most granular level.\n",
    "\n",
    "Note: Diagnosis value formatting in claim_lines is different from here so will need to be corrected for before joining. Not all diagnosis codes have CCS codes.\n",
    "\n",
    "#### prescription_drugs\n",
    "Drug prescription filled by a member identified by National Drug Code(NDC) along with the drug cztegory, drug group, and drug class."
   ]
  },
  {
   "cell_type": "markdown",
   "id": "1c8c3f76",
   "metadata": {},
   "source": [
    "##### Import necessary libraries and read in data"
   ]
  },
  {
   "cell_type": "code",
   "execution_count": 217,
   "id": "2f7bf4b0",
   "metadata": {},
   "outputs": [],
   "source": [
    "import pandas as pd\n",
    "import numpy as np\n",
    "\n",
    "import seaborn as sns\n",
    "import matplotlib.pyplot as plt\n",
    "import squarify\n",
    "%matplotlib inline\n",
    "\n",
    "import openai\n",
    "import os\n",
    "\n",
    "from sklearn.pipeline import Pipeline\n",
    "from sklearn.impute import SimpleImputer\n",
    "from sklearn.preprocessing import OneHotEncoder, StandardScaler\n",
    "from sklearn.compose import ColumnTransformer\n",
    "from sklearn.ensemble import GradientBoostingClassifier\n",
    "from sklearn.model_selection import train_test_split\n",
    "from sklearn.metrics import classification_report, confusion_matrix, accuracy_score"
   ]
  },
  {
   "cell_type": "code",
   "execution_count": 2,
   "id": "0f8df403",
   "metadata": {},
   "outputs": [],
   "source": [
    "prescription_drugs = pd.read_csv('/Users/isaacgolberg/Downloads/Data_(Researcher)_Case_Study_Datasets/prescription_drugs.csv')"
   ]
  },
  {
   "cell_type": "code",
   "execution_count": 3,
   "id": "5f2ea837",
   "metadata": {},
   "outputs": [],
   "source": [
    "claim_lines = pd.read_csv('/Users/isaacgolberg/Downloads/Data_(Researcher)_Case_Study_Datasets/claim_lines.csv')"
   ]
  },
  {
   "cell_type": "code",
   "execution_count": 4,
   "id": "43ec8db7",
   "metadata": {},
   "outputs": [],
   "source": [
    "ccs = pd.read_csv('/Users/isaacgolberg/Downloads/Data_(Researcher)_Case_Study_Datasets/ccs.csv')"
   ]
  },
  {
   "cell_type": "markdown",
   "id": "543b35a2",
   "metadata": {},
   "source": [
    "## EDA"
   ]
  },
  {
   "cell_type": "code",
   "execution_count": 5,
   "id": "f39b25ed",
   "metadata": {},
   "outputs": [
    {
     "name": "stdout",
     "output_type": "stream",
     "text": [
      "<class 'pandas.core.frame.DataFrame'>\n",
      "RangeIndex: 3005934 entries, 0 to 3005933\n",
      "Data columns (total 7 columns):\n",
      " #   Column         Dtype \n",
      "---  ------         ----- \n",
      " 0   record_id      int64 \n",
      " 1   member_id      object\n",
      " 2   date_svc       object\n",
      " 3   ndc            int64 \n",
      " 4   drug_category  object\n",
      " 5   drug_group     object\n",
      " 6   drug_class     object\n",
      "dtypes: int64(2), object(5)\n",
      "memory usage: 160.5+ MB\n"
     ]
    }
   ],
   "source": [
    "prescription_drugs.info()"
   ]
  },
  {
   "cell_type": "code",
   "execution_count": 6,
   "id": "45f48642",
   "metadata": {},
   "outputs": [
    {
     "data": {
      "text/html": [
       "<div>\n",
       "<style scoped>\n",
       "    .dataframe tbody tr th:only-of-type {\n",
       "        vertical-align: middle;\n",
       "    }\n",
       "\n",
       "    .dataframe tbody tr th {\n",
       "        vertical-align: top;\n",
       "    }\n",
       "\n",
       "    .dataframe thead th {\n",
       "        text-align: right;\n",
       "    }\n",
       "</style>\n",
       "<table border=\"1\" class=\"dataframe\">\n",
       "  <thead>\n",
       "    <tr style=\"text-align: right;\">\n",
       "      <th></th>\n",
       "      <th>record_id</th>\n",
       "      <th>member_id</th>\n",
       "      <th>date_svc</th>\n",
       "      <th>ndc</th>\n",
       "      <th>drug_category</th>\n",
       "      <th>drug_group</th>\n",
       "      <th>drug_class</th>\n",
       "    </tr>\n",
       "  </thead>\n",
       "  <tbody>\n",
       "    <tr>\n",
       "      <th>0</th>\n",
       "      <td>4115084976453758912</td>\n",
       "      <td>M0023556</td>\n",
       "      <td>2016-05-08</td>\n",
       "      <td>51285040702</td>\n",
       "      <td>Estrogens</td>\n",
       "      <td>Estrogens</td>\n",
       "      <td>Estrogens</td>\n",
       "    </tr>\n",
       "    <tr>\n",
       "      <th>1</th>\n",
       "      <td>1750642805638674193</td>\n",
       "      <td>M0087538</td>\n",
       "      <td>2016-12-05</td>\n",
       "      <td>50474080303</td>\n",
       "      <td>Antiparkinson and Related Therapy Agents</td>\n",
       "      <td>Antiparkinson Dopaminergics</td>\n",
       "      <td>Nonergoline Dopamine Receptor Agonists</td>\n",
       "    </tr>\n",
       "    <tr>\n",
       "      <th>2</th>\n",
       "      <td>5543689263541245391</td>\n",
       "      <td>M0049608</td>\n",
       "      <td>2018-01-18</td>\n",
       "      <td>3089421</td>\n",
       "      <td>Anticoagulants</td>\n",
       "      <td>Direct Factor Xa Inhibitors</td>\n",
       "      <td>Direct Factor Xa Inhibitors</td>\n",
       "    </tr>\n",
       "    <tr>\n",
       "      <th>3</th>\n",
       "      <td>5952194046467620061</td>\n",
       "      <td>M0175153</td>\n",
       "      <td>2017-01-28</td>\n",
       "      <td>603580321</td>\n",
       "      <td>Gastrointestinal Agents - Misc.</td>\n",
       "      <td>Inflammatory Bowel Agents</td>\n",
       "      <td>Inflammatory Bowel Agents</td>\n",
       "    </tr>\n",
       "    <tr>\n",
       "      <th>4</th>\n",
       "      <td>1809570950798791089</td>\n",
       "      <td>M0152187</td>\n",
       "      <td>2016-05-13</td>\n",
       "      <td>591396501</td>\n",
       "      <td>Progestins</td>\n",
       "      <td>Progestins</td>\n",
       "      <td>Progestins</td>\n",
       "    </tr>\n",
       "  </tbody>\n",
       "</table>\n",
       "</div>"
      ],
      "text/plain": [
       "             record_id member_id    date_svc          ndc  \\\n",
       "0  4115084976453758912  M0023556  2016-05-08  51285040702   \n",
       "1  1750642805638674193  M0087538  2016-12-05  50474080303   \n",
       "2  5543689263541245391  M0049608  2018-01-18      3089421   \n",
       "3  5952194046467620061  M0175153  2017-01-28    603580321   \n",
       "4  1809570950798791089  M0152187  2016-05-13    591396501   \n",
       "\n",
       "                              drug_category                   drug_group  \\\n",
       "0                                 Estrogens                    Estrogens   \n",
       "1  Antiparkinson and Related Therapy Agents  Antiparkinson Dopaminergics   \n",
       "2                            Anticoagulants  Direct Factor Xa Inhibitors   \n",
       "3           Gastrointestinal Agents - Misc.    Inflammatory Bowel Agents   \n",
       "4                                Progestins                   Progestins   \n",
       "\n",
       "                               drug_class  \n",
       "0                               Estrogens  \n",
       "1  Nonergoline Dopamine Receptor Agonists  \n",
       "2             Direct Factor Xa Inhibitors  \n",
       "3               Inflammatory Bowel Agents  \n",
       "4                              Progestins  "
      ]
     },
     "execution_count": 6,
     "metadata": {},
     "output_type": "execute_result"
    }
   ],
   "source": [
    "prescription_drugs.head()"
   ]
  },
  {
   "cell_type": "code",
   "execution_count": 7,
   "id": "59f641d4",
   "metadata": {},
   "outputs": [
    {
     "name": "stdout",
     "output_type": "stream",
     "text": [
      "<class 'pandas.core.frame.DataFrame'>\n",
      "RangeIndex: 1919983 entries, 0 to 1919982\n",
      "Data columns (total 4 columns):\n",
      " #   Column     Dtype \n",
      "---  ------     ----- \n",
      " 0   record_id  int64 \n",
      " 1   member_id  object\n",
      " 2   date_svc   object\n",
      " 3   diag1      object\n",
      "dtypes: int64(1), object(3)\n",
      "memory usage: 58.6+ MB\n"
     ]
    }
   ],
   "source": [
    "claim_lines.info()"
   ]
  },
  {
   "cell_type": "code",
   "execution_count": 8,
   "id": "28c2085a",
   "metadata": {},
   "outputs": [
    {
     "data": {
      "text/plain": [
       "245166"
      ]
     },
     "execution_count": 8,
     "metadata": {},
     "output_type": "execute_result"
    }
   ],
   "source": [
    "claim_lines.member_id.nunique()"
   ]
  },
  {
   "cell_type": "markdown",
   "id": "798c0f64",
   "metadata": {},
   "source": [
    "##### A bit more members than the pdf had mentioned"
   ]
  },
  {
   "cell_type": "code",
   "execution_count": 9,
   "id": "4f79a034",
   "metadata": {},
   "outputs": [],
   "source": [
    "claim_lines['date_svc'] = claim_lines['date_svc'].apply(lambda x: pd.to_datetime(x, format='%Y-%m-%d'))"
   ]
  },
  {
   "cell_type": "code",
   "execution_count": 10,
   "id": "44a17dfb",
   "metadata": {},
   "outputs": [
    {
     "data": {
      "text/plain": [
       "Timestamp('1899-12-04 00:00:00')"
      ]
     },
     "execution_count": 10,
     "metadata": {},
     "output_type": "execute_result"
    }
   ],
   "source": [
    "claim_lines.date_svc.min()"
   ]
  },
  {
   "cell_type": "code",
   "execution_count": 11,
   "id": "c82eff83",
   "metadata": {},
   "outputs": [
    {
     "data": {
      "text/plain": [
       "Timestamp('2018-12-06 00:00:00')"
      ]
     },
     "execution_count": 11,
     "metadata": {},
     "output_type": "execute_result"
    }
   ],
   "source": [
    "claim_lines.date_svc.max()"
   ]
  },
  {
   "cell_type": "markdown",
   "id": "dc611e27",
   "metadata": {},
   "source": [
    "##### The exercise doesn't call for it, but it seems like there are some issues with the data. The minimum date is in 1899 which is contradictory to the pdf which stated it contains member records over a three year period."
   ]
  },
  {
   "cell_type": "code",
   "execution_count": 29,
   "id": "30f5347a",
   "metadata": {},
   "outputs": [
    {
     "data": {
      "text/plain": [
       "record_id    38\n",
       "member_id    38\n",
       "date_svc     38\n",
       "diag1        38\n",
       "dtype: int64"
      ]
     },
     "execution_count": 29,
     "metadata": {},
     "output_type": "execute_result"
    }
   ],
   "source": [
    "claim_lines[claim_lines['date_svc'] < '2015-01-01'].count()"
   ]
  },
  {
   "cell_type": "markdown",
   "id": "fd3f0168",
   "metadata": {},
   "source": [
    "##### In the interest of time, I will not investigate why these records exist and I will simply drop them to get closer to the expected time period outlined in the pdf."
   ]
  },
  {
   "cell_type": "code",
   "execution_count": 30,
   "id": "56d33765",
   "metadata": {},
   "outputs": [],
   "source": [
    "claim_lines = claim_lines[claim_lines['date_svc'] > '2015-01-01']"
   ]
  },
  {
   "cell_type": "code",
   "execution_count": 31,
   "id": "662afeae",
   "metadata": {},
   "outputs": [
    {
     "data": {
      "text/html": [
       "<div>\n",
       "<style scoped>\n",
       "    .dataframe tbody tr th:only-of-type {\n",
       "        vertical-align: middle;\n",
       "    }\n",
       "\n",
       "    .dataframe tbody tr th {\n",
       "        vertical-align: top;\n",
       "    }\n",
       "\n",
       "    .dataframe thead th {\n",
       "        text-align: right;\n",
       "    }\n",
       "</style>\n",
       "<table border=\"1\" class=\"dataframe\">\n",
       "  <thead>\n",
       "    <tr style=\"text-align: right;\">\n",
       "      <th></th>\n",
       "      <th>record_id</th>\n",
       "      <th>member_id</th>\n",
       "      <th>date_svc</th>\n",
       "      <th>diag1</th>\n",
       "    </tr>\n",
       "  </thead>\n",
       "  <tbody>\n",
       "    <tr>\n",
       "      <th>0</th>\n",
       "      <td>57738</td>\n",
       "      <td>M0000001</td>\n",
       "      <td>2015-12-06</td>\n",
       "      <td>N92.6</td>\n",
       "    </tr>\n",
       "    <tr>\n",
       "      <th>1</th>\n",
       "      <td>57750</td>\n",
       "      <td>M0000001</td>\n",
       "      <td>2015-12-06</td>\n",
       "      <td>O26.842</td>\n",
       "    </tr>\n",
       "    <tr>\n",
       "      <th>2</th>\n",
       "      <td>65072</td>\n",
       "      <td>M0000001</td>\n",
       "      <td>2015-12-13</td>\n",
       "      <td>O26.842</td>\n",
       "    </tr>\n",
       "    <tr>\n",
       "      <th>3</th>\n",
       "      <td>201796</td>\n",
       "      <td>M0000001</td>\n",
       "      <td>2016-02-29</td>\n",
       "      <td>O26.843</td>\n",
       "    </tr>\n",
       "    <tr>\n",
       "      <th>4</th>\n",
       "      <td>267197</td>\n",
       "      <td>M0000001</td>\n",
       "      <td>2016-03-27</td>\n",
       "      <td>O26.843</td>\n",
       "    </tr>\n",
       "  </tbody>\n",
       "</table>\n",
       "</div>"
      ],
      "text/plain": [
       "   record_id member_id   date_svc    diag1\n",
       "0      57738  M0000001 2015-12-06    N92.6\n",
       "1      57750  M0000001 2015-12-06  O26.842\n",
       "2      65072  M0000001 2015-12-13  O26.842\n",
       "3     201796  M0000001 2016-02-29  O26.843\n",
       "4     267197  M0000001 2016-03-27  O26.843"
      ]
     },
     "execution_count": 31,
     "metadata": {},
     "output_type": "execute_result"
    }
   ],
   "source": [
    "claim_lines.head()"
   ]
  },
  {
   "cell_type": "code",
   "execution_count": 32,
   "id": "c450b8c8",
   "metadata": {},
   "outputs": [],
   "source": [
    "prescription_drugs['date_svc'] = prescription_drugs['date_svc'].apply(lambda x: pd.to_datetime(x, format='%Y-%m-%d'))"
   ]
  },
  {
   "cell_type": "code",
   "execution_count": 37,
   "id": "45e887c6",
   "metadata": {},
   "outputs": [
    {
     "data": {
      "text/plain": [
       "record_id        466\n",
       "member_id        466\n",
       "date_svc         466\n",
       "ndc              466\n",
       "drug_category    466\n",
       "drug_group       466\n",
       "drug_class       466\n",
       "dtype: int64"
      ]
     },
     "execution_count": 37,
     "metadata": {},
     "output_type": "execute_result"
    }
   ],
   "source": [
    "prescription_drugs[prescription_drugs['date_svc'] < '2014-01-01'].count()"
   ]
  },
  {
   "cell_type": "code",
   "execution_count": 38,
   "id": "94dd3789",
   "metadata": {},
   "outputs": [
    {
     "name": "stderr",
     "output_type": "stream",
     "text": [
      "/var/folders/03/68l938rj3wn6cydyfg471dd40000gn/T/ipykernel_59132/2354848398.py:1: FutureWarning: Treating datetime data as categorical rather than numeric in `.describe` is deprecated and will be removed in a future version of pandas. Specify `datetime_is_numeric=True` to silence this warning and adopt the future behavior now.\n",
      "  prescription_drugs['date_svc'].describe()\n"
     ]
    },
    {
     "data": {
      "text/plain": [
       "count                 3005934\n",
       "unique                   1644\n",
       "top       2018-03-27 00:00:00\n",
       "freq                     5881\n",
       "first     2013-12-04 00:00:00\n",
       "last      2018-06-04 00:00:00\n",
       "Name: date_svc, dtype: object"
      ]
     },
     "execution_count": 38,
     "metadata": {},
     "output_type": "execute_result"
    }
   ],
   "source": [
    "prescription_drugs['date_svc'].describe()"
   ]
  },
  {
   "cell_type": "markdown",
   "id": "199601fb",
   "metadata": {},
   "source": [
    "##### I will do the same for prescription drugs, but set the date at 2014 because we would be dropping a lot more records if we start in 2015"
   ]
  },
  {
   "cell_type": "code",
   "execution_count": 39,
   "id": "6a5ea3b7",
   "metadata": {},
   "outputs": [],
   "source": [
    "prescription_drugs = prescription_drugs[prescription_drugs['date_svc'] > '2014-01-01']"
   ]
  },
  {
   "cell_type": "code",
   "execution_count": 40,
   "id": "662330bd",
   "metadata": {},
   "outputs": [
    {
     "name": "stdout",
     "output_type": "stream",
     "text": [
      "<class 'pandas.core.frame.DataFrame'>\n",
      "RangeIndex: 72167 entries, 0 to 72166\n",
      "Data columns (total 5 columns):\n",
      " #   Column      Non-Null Count  Dtype \n",
      "---  ------      --------------  ----- \n",
      " 0   diag        72167 non-null  object\n",
      " 1   diag_desc   72167 non-null  object\n",
      " 2   ccs_1_desc  72167 non-null  object\n",
      " 3   ccs_2_desc  72167 non-null  object\n",
      " 4   ccs_3_desc  72167 non-null  object\n",
      "dtypes: object(5)\n",
      "memory usage: 2.8+ MB\n"
     ]
    }
   ],
   "source": [
    "ccs.info()"
   ]
  },
  {
   "cell_type": "code",
   "execution_count": 41,
   "id": "f68e205f",
   "metadata": {},
   "outputs": [
    {
     "data": {
      "text/html": [
       "<div>\n",
       "<style scoped>\n",
       "    .dataframe tbody tr th:only-of-type {\n",
       "        vertical-align: middle;\n",
       "    }\n",
       "\n",
       "    .dataframe tbody tr th {\n",
       "        vertical-align: top;\n",
       "    }\n",
       "\n",
       "    .dataframe thead th {\n",
       "        text-align: right;\n",
       "    }\n",
       "</style>\n",
       "<table border=\"1\" class=\"dataframe\">\n",
       "  <thead>\n",
       "    <tr style=\"text-align: right;\">\n",
       "      <th></th>\n",
       "      <th>diag</th>\n",
       "      <th>diag_desc</th>\n",
       "      <th>ccs_1_desc</th>\n",
       "      <th>ccs_2_desc</th>\n",
       "      <th>ccs_3_desc</th>\n",
       "    </tr>\n",
       "  </thead>\n",
       "  <tbody>\n",
       "    <tr>\n",
       "      <th>0</th>\n",
       "      <td>A000</td>\n",
       "      <td>Cholera due to Vibrio cholerae 01, biovar chol...</td>\n",
       "      <td>Diseases of the digestive system</td>\n",
       "      <td>Intestinal infection [135.]</td>\n",
       "      <td>Intestinal infection</td>\n",
       "    </tr>\n",
       "    <tr>\n",
       "      <th>1</th>\n",
       "      <td>A001</td>\n",
       "      <td>Cholera due to Vibrio cholerae 01, biovar eltor</td>\n",
       "      <td>Diseases of the digestive system</td>\n",
       "      <td>Intestinal infection [135.]</td>\n",
       "      <td>Intestinal infection</td>\n",
       "    </tr>\n",
       "    <tr>\n",
       "      <th>2</th>\n",
       "      <td>A009</td>\n",
       "      <td>Cholera, unspecified</td>\n",
       "      <td>Diseases of the digestive system</td>\n",
       "      <td>Intestinal infection [135.]</td>\n",
       "      <td>Intestinal infection</td>\n",
       "    </tr>\n",
       "    <tr>\n",
       "      <th>3</th>\n",
       "      <td>A0100</td>\n",
       "      <td>Typhoid fever, unspecified</td>\n",
       "      <td>Diseases of the digestive system</td>\n",
       "      <td>Intestinal infection [135.]</td>\n",
       "      <td>Intestinal infection</td>\n",
       "    </tr>\n",
       "    <tr>\n",
       "      <th>4</th>\n",
       "      <td>A0101</td>\n",
       "      <td>Typhoid meningitis</td>\n",
       "      <td>Diseases of the nervous system and sense organs</td>\n",
       "      <td>Central nervous system infection</td>\n",
       "      <td>Meningitis (except that caused by tuberculosis...</td>\n",
       "    </tr>\n",
       "  </tbody>\n",
       "</table>\n",
       "</div>"
      ],
      "text/plain": [
       "    diag                                          diag_desc  \\\n",
       "0   A000  Cholera due to Vibrio cholerae 01, biovar chol...   \n",
       "1   A001    Cholera due to Vibrio cholerae 01, biovar eltor   \n",
       "2   A009                               Cholera, unspecified   \n",
       "3  A0100                         Typhoid fever, unspecified   \n",
       "4  A0101                                 Typhoid meningitis   \n",
       "\n",
       "                                        ccs_1_desc  \\\n",
       "0                 Diseases of the digestive system   \n",
       "1                 Diseases of the digestive system   \n",
       "2                 Diseases of the digestive system   \n",
       "3                 Diseases of the digestive system   \n",
       "4  Diseases of the nervous system and sense organs   \n",
       "\n",
       "                         ccs_2_desc  \\\n",
       "0       Intestinal infection [135.]   \n",
       "1       Intestinal infection [135.]   \n",
       "2       Intestinal infection [135.]   \n",
       "3       Intestinal infection [135.]   \n",
       "4  Central nervous system infection   \n",
       "\n",
       "                                          ccs_3_desc  \n",
       "0                               Intestinal infection  \n",
       "1                               Intestinal infection  \n",
       "2                               Intestinal infection  \n",
       "3                               Intestinal infection  \n",
       "4  Meningitis (except that caused by tuberculosis...  "
      ]
     },
     "execution_count": 41,
     "metadata": {},
     "output_type": "execute_result"
    }
   ],
   "source": [
    "ccs.head()"
   ]
  },
  {
   "cell_type": "code",
   "execution_count": 42,
   "id": "767605f5",
   "metadata": {},
   "outputs": [
    {
     "data": {
      "text/html": [
       "<div>\n",
       "<style scoped>\n",
       "    .dataframe tbody tr th:only-of-type {\n",
       "        vertical-align: middle;\n",
       "    }\n",
       "\n",
       "    .dataframe tbody tr th {\n",
       "        vertical-align: top;\n",
       "    }\n",
       "\n",
       "    .dataframe thead th {\n",
       "        text-align: right;\n",
       "    }\n",
       "</style>\n",
       "<table border=\"1\" class=\"dataframe\">\n",
       "  <thead>\n",
       "    <tr style=\"text-align: right;\">\n",
       "      <th></th>\n",
       "      <th>drug_category</th>\n",
       "      <th>drug_group</th>\n",
       "      <th>drug_class</th>\n",
       "    </tr>\n",
       "  </thead>\n",
       "  <tbody>\n",
       "    <tr>\n",
       "      <th>count</th>\n",
       "      <td>3005427</td>\n",
       "      <td>3005427</td>\n",
       "      <td>3005427</td>\n",
       "    </tr>\n",
       "    <tr>\n",
       "      <th>unique</th>\n",
       "      <td>92</td>\n",
       "      <td>464</td>\n",
       "      <td>687</td>\n",
       "    </tr>\n",
       "    <tr>\n",
       "      <th>top</th>\n",
       "      <td>Antidepressants</td>\n",
       "      <td>Hmg CoA Reductase Inhibitors</td>\n",
       "      <td>Hmg CoA Reductase Inhibitors</td>\n",
       "    </tr>\n",
       "    <tr>\n",
       "      <th>freq</th>\n",
       "      <td>271625</td>\n",
       "      <td>147946</td>\n",
       "      <td>147934</td>\n",
       "    </tr>\n",
       "  </tbody>\n",
       "</table>\n",
       "</div>"
      ],
      "text/plain": [
       "          drug_category                    drug_group  \\\n",
       "count           3005427                       3005427   \n",
       "unique               92                           464   \n",
       "top     Antidepressants  Hmg CoA Reductase Inhibitors   \n",
       "freq             271625                        147946   \n",
       "\n",
       "                          drug_class  \n",
       "count                        3005427  \n",
       "unique                           687  \n",
       "top     Hmg CoA Reductase Inhibitors  \n",
       "freq                          147934  "
      ]
     },
     "execution_count": 42,
     "metadata": {},
     "output_type": "execute_result"
    }
   ],
   "source": [
    "prescription_drugs[['drug_category', 'drug_group', 'drug_class']].describe()"
   ]
  },
  {
   "cell_type": "code",
   "execution_count": 43,
   "id": "717eb054",
   "metadata": {},
   "outputs": [
    {
     "name": "stderr",
     "output_type": "stream",
     "text": [
      "/var/folders/03/68l938rj3wn6cydyfg471dd40000gn/T/ipykernel_59132/2842518833.py:1: FutureWarning: Treating datetime data as categorical rather than numeric in `.describe` is deprecated and will be removed in a future version of pandas. Specify `datetime_is_numeric=True` to silence this warning and adopt the future behavior now.\n",
      "  claim_lines[['date_svc', 'diag1']].describe()\n"
     ]
    },
    {
     "data": {
      "text/html": [
       "<div>\n",
       "<style scoped>\n",
       "    .dataframe tbody tr th:only-of-type {\n",
       "        vertical-align: middle;\n",
       "    }\n",
       "\n",
       "    .dataframe tbody tr th {\n",
       "        vertical-align: top;\n",
       "    }\n",
       "\n",
       "    .dataframe thead th {\n",
       "        text-align: right;\n",
       "    }\n",
       "</style>\n",
       "<table border=\"1\" class=\"dataframe\">\n",
       "  <thead>\n",
       "    <tr style=\"text-align: right;\">\n",
       "      <th></th>\n",
       "      <th>date_svc</th>\n",
       "      <th>diag1</th>\n",
       "    </tr>\n",
       "  </thead>\n",
       "  <tbody>\n",
       "    <tr>\n",
       "      <th>count</th>\n",
       "      <td>1919921</td>\n",
       "      <td>1919921</td>\n",
       "    </tr>\n",
       "    <tr>\n",
       "      <th>unique</th>\n",
       "      <td>1113</td>\n",
       "      <td>20566</td>\n",
       "    </tr>\n",
       "    <tr>\n",
       "      <th>top</th>\n",
       "      <td>2018-02-15 00:00:00</td>\n",
       "      <td>Z00.00</td>\n",
       "    </tr>\n",
       "    <tr>\n",
       "      <th>freq</th>\n",
       "      <td>4237</td>\n",
       "      <td>70352</td>\n",
       "    </tr>\n",
       "    <tr>\n",
       "      <th>first</th>\n",
       "      <td>2015-01-02 00:00:00</td>\n",
       "      <td>NaN</td>\n",
       "    </tr>\n",
       "    <tr>\n",
       "      <th>last</th>\n",
       "      <td>2018-12-06 00:00:00</td>\n",
       "      <td>NaN</td>\n",
       "    </tr>\n",
       "  </tbody>\n",
       "</table>\n",
       "</div>"
      ],
      "text/plain": [
       "                   date_svc    diag1\n",
       "count               1919921  1919921\n",
       "unique                 1113    20566\n",
       "top     2018-02-15 00:00:00   Z00.00\n",
       "freq                   4237    70352\n",
       "first   2015-01-02 00:00:00      NaN\n",
       "last    2018-12-06 00:00:00      NaN"
      ]
     },
     "execution_count": 43,
     "metadata": {},
     "output_type": "execute_result"
    }
   ],
   "source": [
    "claim_lines[['date_svc', 'diag1']].describe()"
   ]
  },
  {
   "cell_type": "code",
   "execution_count": 47,
   "id": "84c0e976",
   "metadata": {},
   "outputs": [
    {
     "data": {
      "text/html": [
       "<div>\n",
       "<style scoped>\n",
       "    .dataframe tbody tr th:only-of-type {\n",
       "        vertical-align: middle;\n",
       "    }\n",
       "\n",
       "    .dataframe tbody tr th {\n",
       "        vertical-align: top;\n",
       "    }\n",
       "\n",
       "    .dataframe thead th {\n",
       "        text-align: right;\n",
       "    }\n",
       "</style>\n",
       "<table border=\"1\" class=\"dataframe\">\n",
       "  <thead>\n",
       "    <tr style=\"text-align: right;\">\n",
       "      <th></th>\n",
       "      <th>diag</th>\n",
       "      <th>diag_desc</th>\n",
       "      <th>ccs_1_desc</th>\n",
       "      <th>ccs_2_desc</th>\n",
       "      <th>ccs_3_desc</th>\n",
       "    </tr>\n",
       "  </thead>\n",
       "  <tbody>\n",
       "    <tr>\n",
       "      <th>count</th>\n",
       "      <td>72167</td>\n",
       "      <td>72167</td>\n",
       "      <td>72167</td>\n",
       "      <td>72167</td>\n",
       "      <td>72167</td>\n",
       "    </tr>\n",
       "    <tr>\n",
       "      <th>unique</th>\n",
       "      <td>72167</td>\n",
       "      <td>71961</td>\n",
       "      <td>18</td>\n",
       "      <td>136</td>\n",
       "      <td>283</td>\n",
       "    </tr>\n",
       "    <tr>\n",
       "      <th>top</th>\n",
       "      <td>A000</td>\n",
       "      <td>Concussion with loss of consciousness greater ...</td>\n",
       "      <td>Injury and poisoning</td>\n",
       "      <td>Fractures</td>\n",
       "      <td>Fracture of lower limb</td>\n",
       "    </tr>\n",
       "    <tr>\n",
       "      <th>freq</th>\n",
       "      <td>1</td>\n",
       "      <td>6</td>\n",
       "      <td>40432</td>\n",
       "      <td>16924</td>\n",
       "      <td>6888</td>\n",
       "    </tr>\n",
       "  </tbody>\n",
       "</table>\n",
       "</div>"
      ],
      "text/plain": [
       "         diag                                          diag_desc  \\\n",
       "count   72167                                              72167   \n",
       "unique  72167                                              71961   \n",
       "top      A000  Concussion with loss of consciousness greater ...   \n",
       "freq        1                                                  6   \n",
       "\n",
       "                  ccs_1_desc ccs_2_desc              ccs_3_desc  \n",
       "count                  72167      72167                   72167  \n",
       "unique                    18        136                     283  \n",
       "top     Injury and poisoning  Fractures  Fracture of lower limb  \n",
       "freq                   40432      16924                    6888  "
      ]
     },
     "execution_count": 47,
     "metadata": {},
     "output_type": "execute_result"
    }
   ],
   "source": [
    "ccs.describe()"
   ]
  },
  {
   "cell_type": "markdown",
   "id": "01625a9b",
   "metadata": {},
   "source": [
    "##### From the unique count, it seems like ccs_1_desc is a more general code for different diagnostics. ccs_2_desc becomes a bit more granular and ccs_3_desc would seem to be the most granular out of the three. Spot checks will need to be done as well to try and build narratives for some patients to make sure we have a solid understanding of the data."
   ]
  },
  {
   "cell_type": "code",
   "execution_count": 48,
   "id": "56c83113",
   "metadata": {},
   "outputs": [
    {
     "name": "stdout",
     "output_type": "stream",
     "text": [
      "Claim Lines Missing Values:\n",
      "record_id    0\n",
      "member_id    0\n",
      "date_svc     0\n",
      "diag1        0\n",
      "dtype: int64\n",
      "\n",
      "CCS Missing Values:\n",
      "diag          0\n",
      "diag_desc     0\n",
      "ccs_1_desc    0\n",
      "ccs_2_desc    0\n",
      "ccs_3_desc    0\n",
      "dtype: int64\n",
      "\n",
      "Prescription Drugs Missing Values:\n",
      "record_id        0\n",
      "member_id        0\n",
      "date_svc         0\n",
      "ndc              0\n",
      "drug_category    0\n",
      "drug_group       0\n",
      "drug_class       0\n",
      "dtype: int64\n"
     ]
    }
   ],
   "source": [
    "# Checking for missing values\n",
    "print(\"Claim Lines Missing Values:\")\n",
    "print(claim_lines.isnull().sum())\n",
    "print(\"\\nCCS Missing Values:\")\n",
    "print(ccs.isnull().sum())\n",
    "print(\"\\nPrescription Drugs Missing Values:\")\n",
    "print(prescription_drugs.isnull().sum())"
   ]
  },
  {
   "cell_type": "markdown",
   "id": "d415f060",
   "metadata": {},
   "source": [
    "#### After looking at the data, claim_lines seems to have an unnecessary period in the diagnosis code which will need to be removed in order to tie to the ccs mapping data."
   ]
  },
  {
   "cell_type": "code",
   "execution_count": 49,
   "id": "d029ddfc",
   "metadata": {},
   "outputs": [],
   "source": [
    "claim_lines['diag1'] = claim_lines['diag1'].apply(lambda x: x.replace('.', ''))"
   ]
  },
  {
   "cell_type": "markdown",
   "id": "f4300b6a",
   "metadata": {},
   "source": [
    "##### It will be useful later to have all of the ccs data tied to each claim for building characterizations."
   ]
  },
  {
   "cell_type": "code",
   "execution_count": 50,
   "id": "9a78d923",
   "metadata": {},
   "outputs": [],
   "source": [
    "# Get ccs codes for each claim\n",
    "df = claim_lines.merge(ccs, how='left', left_on='diag1', right_on='diag')"
   ]
  },
  {
   "cell_type": "code",
   "execution_count": 51,
   "id": "f97bea02",
   "metadata": {},
   "outputs": [
    {
     "data": {
      "text/html": [
       "<div>\n",
       "<style scoped>\n",
       "    .dataframe tbody tr th:only-of-type {\n",
       "        vertical-align: middle;\n",
       "    }\n",
       "\n",
       "    .dataframe tbody tr th {\n",
       "        vertical-align: top;\n",
       "    }\n",
       "\n",
       "    .dataframe thead th {\n",
       "        text-align: right;\n",
       "    }\n",
       "</style>\n",
       "<table border=\"1\" class=\"dataframe\">\n",
       "  <thead>\n",
       "    <tr style=\"text-align: right;\">\n",
       "      <th></th>\n",
       "      <th>record_id</th>\n",
       "      <th>member_id</th>\n",
       "      <th>date_svc</th>\n",
       "      <th>diag1</th>\n",
       "      <th>diag</th>\n",
       "      <th>diag_desc</th>\n",
       "      <th>ccs_1_desc</th>\n",
       "      <th>ccs_2_desc</th>\n",
       "      <th>ccs_3_desc</th>\n",
       "    </tr>\n",
       "  </thead>\n",
       "  <tbody>\n",
       "    <tr>\n",
       "      <th>0</th>\n",
       "      <td>57738</td>\n",
       "      <td>M0000001</td>\n",
       "      <td>2015-12-06</td>\n",
       "      <td>N926</td>\n",
       "      <td>N926</td>\n",
       "      <td>Irregular menstruation, unspecified</td>\n",
       "      <td>Diseases of the genitourinary system</td>\n",
       "      <td>Diseases of female genital organs</td>\n",
       "      <td>Menstrual disorders</td>\n",
       "    </tr>\n",
       "    <tr>\n",
       "      <th>1</th>\n",
       "      <td>57750</td>\n",
       "      <td>M0000001</td>\n",
       "      <td>2015-12-06</td>\n",
       "      <td>O26842</td>\n",
       "      <td>O26842</td>\n",
       "      <td>Uterine size-date discrepancy, second trimester</td>\n",
       "      <td>Complications of pregnancy; childbirth; and th...</td>\n",
       "      <td>Complications mainly related to pregnancy</td>\n",
       "      <td>Other complications of pregnancy</td>\n",
       "    </tr>\n",
       "    <tr>\n",
       "      <th>2</th>\n",
       "      <td>65072</td>\n",
       "      <td>M0000001</td>\n",
       "      <td>2015-12-13</td>\n",
       "      <td>O26842</td>\n",
       "      <td>O26842</td>\n",
       "      <td>Uterine size-date discrepancy, second trimester</td>\n",
       "      <td>Complications of pregnancy; childbirth; and th...</td>\n",
       "      <td>Complications mainly related to pregnancy</td>\n",
       "      <td>Other complications of pregnancy</td>\n",
       "    </tr>\n",
       "    <tr>\n",
       "      <th>3</th>\n",
       "      <td>201796</td>\n",
       "      <td>M0000001</td>\n",
       "      <td>2016-02-29</td>\n",
       "      <td>O26843</td>\n",
       "      <td>O26843</td>\n",
       "      <td>Uterine size-date discrepancy, third trimester</td>\n",
       "      <td>Complications of pregnancy; childbirth; and th...</td>\n",
       "      <td>Complications mainly related to pregnancy</td>\n",
       "      <td>Other complications of pregnancy</td>\n",
       "    </tr>\n",
       "    <tr>\n",
       "      <th>4</th>\n",
       "      <td>267197</td>\n",
       "      <td>M0000001</td>\n",
       "      <td>2016-03-27</td>\n",
       "      <td>O26843</td>\n",
       "      <td>O26843</td>\n",
       "      <td>Uterine size-date discrepancy, third trimester</td>\n",
       "      <td>Complications of pregnancy; childbirth; and th...</td>\n",
       "      <td>Complications mainly related to pregnancy</td>\n",
       "      <td>Other complications of pregnancy</td>\n",
       "    </tr>\n",
       "  </tbody>\n",
       "</table>\n",
       "</div>"
      ],
      "text/plain": [
       "   record_id member_id   date_svc   diag1    diag  \\\n",
       "0      57738  M0000001 2015-12-06    N926    N926   \n",
       "1      57750  M0000001 2015-12-06  O26842  O26842   \n",
       "2      65072  M0000001 2015-12-13  O26842  O26842   \n",
       "3     201796  M0000001 2016-02-29  O26843  O26843   \n",
       "4     267197  M0000001 2016-03-27  O26843  O26843   \n",
       "\n",
       "                                         diag_desc  \\\n",
       "0              Irregular menstruation, unspecified   \n",
       "1  Uterine size-date discrepancy, second trimester   \n",
       "2  Uterine size-date discrepancy, second trimester   \n",
       "3   Uterine size-date discrepancy, third trimester   \n",
       "4   Uterine size-date discrepancy, third trimester   \n",
       "\n",
       "                                          ccs_1_desc  \\\n",
       "0               Diseases of the genitourinary system   \n",
       "1  Complications of pregnancy; childbirth; and th...   \n",
       "2  Complications of pregnancy; childbirth; and th...   \n",
       "3  Complications of pregnancy; childbirth; and th...   \n",
       "4  Complications of pregnancy; childbirth; and th...   \n",
       "\n",
       "                                  ccs_2_desc                        ccs_3_desc  \n",
       "0          Diseases of female genital organs               Menstrual disorders  \n",
       "1  Complications mainly related to pregnancy  Other complications of pregnancy  \n",
       "2  Complications mainly related to pregnancy  Other complications of pregnancy  \n",
       "3  Complications mainly related to pregnancy  Other complications of pregnancy  \n",
       "4  Complications mainly related to pregnancy  Other complications of pregnancy  "
      ]
     },
     "execution_count": 51,
     "metadata": {},
     "output_type": "execute_result"
    }
   ],
   "source": [
    "df.head()"
   ]
  },
  {
   "cell_type": "code",
   "execution_count": 112,
   "id": "5d9956bc",
   "metadata": {},
   "outputs": [
    {
     "name": "stdout",
     "output_type": "stream",
     "text": [
      "\n",
      "Claims + CCS Missing Values:\n",
      "record_id        0\n",
      "member_id        0\n",
      "date_svc         0\n",
      "diag1            0\n",
      "diag          2071\n",
      "diag_desc     2071\n",
      "ccs_1_desc    2071\n",
      "ccs_2_desc    2071\n",
      "ccs_3_desc    2071\n",
      "dtype: int64\n"
     ]
    }
   ],
   "source": [
    "print(\"\\nClaims + CCS Missing Values:\")\n",
    "print(df.isnull().sum())"
   ]
  },
  {
   "cell_type": "markdown",
   "id": "649fbc9e",
   "metadata": {},
   "source": [
    "##### We do not have a mapping for some records."
   ]
  },
  {
   "cell_type": "markdown",
   "id": "41ea5c62",
   "metadata": {},
   "source": [
    "##### Look at frequency for clinical categories"
   ]
  },
  {
   "cell_type": "code",
   "execution_count": 62,
   "id": "dd23d219",
   "metadata": {
    "scrolled": false
   },
   "outputs": [
    {
     "data": {
      "image/png": "[encoded data removed]",
      "text/plain": [
       "<Figure size 1000x500 with 1 Axes>"
      ]
     },
     "metadata": {},
     "output_type": "display_data"
    },
    {
     "data": {
      "image/png": "[encoded data removed]",
      "text/plain": [
       "<Figure size 1000x500 with 1 Axes>"
      ]
     },
     "metadata": {},
     "output_type": "display_data"
    },
    {
     "data": {
      "image/png": "[encoded data removed]",
      "text/plain": [
       "<Figure size 1000x500 with 1 Axes>"
      ]
     },
     "metadata": {},
     "output_type": "display_data"
    }
   ],
   "source": [
    "# Top 10 Clinical Categories\n",
    "for col in ['ccs_1_desc', 'ccs_2_desc', 'ccs_3_desc']:\n",
    "    top_ccs = df[col].value_counts().head(10)\n",
    "    plt.figure(figsize=(10, 5))\n",
    "    sns.barplot(y=top_ccs.index, x=top_ccs.values, palette='viridis')\n",
    "    plt.title(f'Top 10 {col} Categories')"
   ]
  },
  {
   "cell_type": "markdown",
   "id": "433cf259",
   "metadata": {},
   "source": [
    "##### Given more time I would have wanted to investigate hierarchical relationships a bit more, potentially with a dendrogram."
   ]
  },
  {
   "cell_type": "markdown",
   "id": "1cd20c73",
   "metadata": {},
   "source": [
    "##### Look at prescriptions over time"
   ]
  },
  {
   "cell_type": "code",
   "execution_count": 67,
   "id": "05ad97b5",
   "metadata": {},
   "outputs": [
    {
     "data": {
      "image/png": "[encoded data removed]",
      "text/plain": [
       "<Figure size 1500x700 with 1 Axes>"
      ]
     },
     "metadata": {},
     "output_type": "display_data"
    }
   ],
   "source": [
    "# Extract month and year from date_svc\n",
    "prescription_drugs['YearMonth'] = prescription_drugs['date_svc'].dt.to_period('M')\n",
    "\n",
    "# Plot prescriptions over time\n",
    "plt.figure(figsize=(15, 7))\n",
    "prescription_drugs.groupby('YearMonth')['record_id'].count().plot(kind='line')\n",
    "plt.title('Number of Prescriptions Over Time')\n",
    "plt.xlabel('Date')\n",
    "plt.ylabel('Number of Prescriptions')\n",
    "plt.show()"
   ]
  },
  {
   "cell_type": "code",
   "execution_count": 69,
   "id": "44fb3e6c",
   "metadata": {},
   "outputs": [
    {
     "data": {
      "image/png": "[encoded data removed]",
      "text/plain": [
       "<Figure size 1500x700 with 1 Axes>"
      ]
     },
     "metadata": {},
     "output_type": "display_data"
    }
   ],
   "source": [
    "# Extract month and year from date_svc\n",
    "claim_lines['YearMonth'] = claim_lines['date_svc'].dt.to_period('M')\n",
    "\n",
    "# Plot prescriptions over time\n",
    "plt.figure(figsize=(15, 7))\n",
    "claim_lines.groupby('YearMonth')['record_id'].count().plot(kind='line')\n",
    "plt.title('Number of Claims Over Time')\n",
    "plt.xlabel('Date')\n",
    "plt.ylabel('Number of Claims')\n",
    "plt.show()"
   ]
  },
  {
   "cell_type": "markdown",
   "id": "59ee6a94",
   "metadata": {},
   "source": [
    "##### The number of prescriptions seems to follow the same trend as the number of claims with respect to time. This would match my intuition and is a relatively good sign. We can see prescriptions are lagging a bit (e.g. an increase in prescriptions filled increases shortly after there as an uptick in claims."
   ]
  },
  {
   "cell_type": "code",
   "execution_count": 71,
   "id": "0150da2d",
   "metadata": {},
   "outputs": [
    {
     "data": {
      "image/png": "[encoded data removed]",
      "text/plain": [
       "<Figure size 1000x500 with 1 Axes>"
      ]
     },
     "metadata": {},
     "output_type": "display_data"
    },
    {
     "data": {
      "image/png": "[encoded data removed]",
      "text/plain": [
       "<Figure size 1000x500 with 1 Axes>"
      ]
     },
     "metadata": {},
     "output_type": "display_data"
    },
    {
     "data": {
      "image/png": "[encoded data removed]",
      "text/plain": [
       "<Figure size 1000x500 with 1 Axes>"
      ]
     },
     "metadata": {},
     "output_type": "display_data"
    }
   ],
   "source": [
    "# Top 10 Drug categories\n",
    "top_drugs = prescription_drugs['drug_category'].value_counts().head(10)\n",
    "plt.figure(figsize=(10, 5))\n",
    "sns.barplot(y=top_drugs.index, x=top_drugs.values, palette='viridis')\n",
    "plt.title('Top 10 Drug Categories')\n",
    "plt.show()\n",
    "\n",
    "# Top 10 Drug Groups\n",
    "top_drug_groups = prescription_drugs['drug_group'].value_counts().head(10)\n",
    "plt.figure(figsize=(10, 5))\n",
    "sns.barplot(y=top_drug_groups.index, x=top_drug_groups.values, palette='viridis')\n",
    "plt.title('Top 10 Drug Groups')\n",
    "plt.show()\n",
    "\n",
    "# Top 10 Drug Classes\n",
    "top_drug_classes = prescription_drugs['drug_class'].value_counts().head(10)\n",
    "plt.figure(figsize=(10, 5))\n",
    "sns.barplot(y=top_drug_classes.index, x=top_drug_classes.values, palette='viridis')\n",
    "plt.title('Top 10 Drug Classes')\n",
    "plt.show()\n"
   ]
  },
  {
   "cell_type": "code",
   "execution_count": 123,
   "id": "2c01c615",
   "metadata": {},
   "outputs": [
    {
     "data": {
      "image/png": "[encoded data removed]",
      "text/plain": [
       "<Figure size 640x480 with 1 Axes>"
      ]
     },
     "metadata": {},
     "output_type": "display_data"
    }
   ],
   "source": [
    "claims_per_diag = df['diag1'].value_counts().head(10)\n",
    "sns.barplot(y=prescriptions_per_diag.index, x=prescriptions_per_diag.values, palette='viridis')\n",
    "plt.title('Most Common Diagnostic Codes')\n",
    "plt.show()"
   ]
  },
  {
   "cell_type": "code",
   "execution_count": 118,
   "id": "b428d423",
   "metadata": {},
   "outputs": [
    {
     "data": {
      "text/plain": [
       "array(['Encntr for general adult medical exam w/o abnormal findings'],\n",
       "      dtype=object)"
      ]
     },
     "execution_count": 118,
     "metadata": {},
     "output_type": "execute_result"
    }
   ],
   "source": [
    "df[df['diag1'] == 'Z0000']['diag_desc'].unique()"
   ]
  },
  {
   "cell_type": "markdown",
   "id": "59b5264a",
   "metadata": {},
   "source": [
    "##### Looks like the most common diagnostic code is a general examination without any abnormal findings."
   ]
  },
  {
   "cell_type": "markdown",
   "id": "ca3aa916",
   "metadata": {},
   "source": [
    "##### Look at some examples of diagnosis and associated ccs to determine a good characterization."
   ]
  },
  {
   "cell_type": "code",
   "execution_count": 72,
   "id": "7c52bd1d",
   "metadata": {},
   "outputs": [
    {
     "data": {
      "text/html": [
       "<div>\n",
       "<style scoped>\n",
       "    .dataframe tbody tr th:only-of-type {\n",
       "        vertical-align: middle;\n",
       "    }\n",
       "\n",
       "    .dataframe tbody tr th {\n",
       "        vertical-align: top;\n",
       "    }\n",
       "\n",
       "    .dataframe thead th {\n",
       "        text-align: right;\n",
       "    }\n",
       "</style>\n",
       "<table border=\"1\" class=\"dataframe\">\n",
       "  <thead>\n",
       "    <tr style=\"text-align: right;\">\n",
       "      <th></th>\n",
       "      <th>date_svc</th>\n",
       "      <th>diag1</th>\n",
       "      <th>diag_desc</th>\n",
       "      <th>ccs_1_desc</th>\n",
       "      <th>ccs_2_desc</th>\n",
       "      <th>ccs_3_desc</th>\n",
       "    </tr>\n",
       "  </thead>\n",
       "  <tbody>\n",
       "    <tr>\n",
       "      <th>0</th>\n",
       "      <td>2015-12-06</td>\n",
       "      <td>N926</td>\n",
       "      <td>Irregular menstruation, unspecified</td>\n",
       "      <td>Diseases of the genitourinary system</td>\n",
       "      <td>Diseases of female genital organs</td>\n",
       "      <td>Menstrual disorders</td>\n",
       "    </tr>\n",
       "    <tr>\n",
       "      <th>1</th>\n",
       "      <td>2015-12-06</td>\n",
       "      <td>O26842</td>\n",
       "      <td>Uterine size-date discrepancy, second trimester</td>\n",
       "      <td>Complications of pregnancy; childbirth; and th...</td>\n",
       "      <td>Complications mainly related to pregnancy</td>\n",
       "      <td>Other complications of pregnancy</td>\n",
       "    </tr>\n",
       "    <tr>\n",
       "      <th>2</th>\n",
       "      <td>2015-12-13</td>\n",
       "      <td>O26842</td>\n",
       "      <td>Uterine size-date discrepancy, second trimester</td>\n",
       "      <td>Complications of pregnancy; childbirth; and th...</td>\n",
       "      <td>Complications mainly related to pregnancy</td>\n",
       "      <td>Other complications of pregnancy</td>\n",
       "    </tr>\n",
       "    <tr>\n",
       "      <th>3</th>\n",
       "      <td>2016-02-29</td>\n",
       "      <td>O26843</td>\n",
       "      <td>Uterine size-date discrepancy, third trimester</td>\n",
       "      <td>Complications of pregnancy; childbirth; and th...</td>\n",
       "      <td>Complications mainly related to pregnancy</td>\n",
       "      <td>Other complications of pregnancy</td>\n",
       "    </tr>\n",
       "    <tr>\n",
       "      <th>4</th>\n",
       "      <td>2016-03-27</td>\n",
       "      <td>O26843</td>\n",
       "      <td>Uterine size-date discrepancy, third trimester</td>\n",
       "      <td>Complications of pregnancy; childbirth; and th...</td>\n",
       "      <td>Complications mainly related to pregnancy</td>\n",
       "      <td>Other complications of pregnancy</td>\n",
       "    </tr>\n",
       "    <tr>\n",
       "      <th>5</th>\n",
       "      <td>2016-04-03</td>\n",
       "      <td>O26843</td>\n",
       "      <td>Uterine size-date discrepancy, third trimester</td>\n",
       "      <td>Complications of pregnancy; childbirth; and th...</td>\n",
       "      <td>Complications mainly related to pregnancy</td>\n",
       "      <td>Other complications of pregnancy</td>\n",
       "    </tr>\n",
       "    <tr>\n",
       "      <th>6</th>\n",
       "      <td>2016-04-10</td>\n",
       "      <td>O26843</td>\n",
       "      <td>Uterine size-date discrepancy, third trimester</td>\n",
       "      <td>Complications of pregnancy; childbirth; and th...</td>\n",
       "      <td>Complications mainly related to pregnancy</td>\n",
       "      <td>Other complications of pregnancy</td>\n",
       "    </tr>\n",
       "    <tr>\n",
       "      <th>7</th>\n",
       "      <td>2016-04-11</td>\n",
       "      <td>O26843</td>\n",
       "      <td>Uterine size-date discrepancy, third trimester</td>\n",
       "      <td>Complications of pregnancy; childbirth; and th...</td>\n",
       "      <td>Complications mainly related to pregnancy</td>\n",
       "      <td>Other complications of pregnancy</td>\n",
       "    </tr>\n",
       "    <tr>\n",
       "      <th>8</th>\n",
       "      <td>2016-04-13</td>\n",
       "      <td>O3421</td>\n",
       "      <td>Maternal care for scar from previous cesarean ...</td>\n",
       "      <td>Complications of pregnancy; childbirth; and th...</td>\n",
       "      <td>Indications for care in pregnancy; labor; and ...</td>\n",
       "      <td>Previous C-section</td>\n",
       "    </tr>\n",
       "    <tr>\n",
       "      <th>9</th>\n",
       "      <td>2016-04-13</td>\n",
       "      <td>O80</td>\n",
       "      <td>Encounter for full-term uncomplicated delivery</td>\n",
       "      <td>Complications of pregnancy; childbirth; and th...</td>\n",
       "      <td>Normal pregnancy and/or delivery [196.]</td>\n",
       "      <td>Other pregnancy and delivery including normal</td>\n",
       "    </tr>\n",
       "    <tr>\n",
       "      <th>10</th>\n",
       "      <td>2016-04-13</td>\n",
       "      <td>Z3801</td>\n",
       "      <td>Single liveborn infant, delivered by cesarean</td>\n",
       "      <td>Certain conditions originating in the perinata...</td>\n",
       "      <td>Liveborn [218.]</td>\n",
       "      <td>Liveborn</td>\n",
       "    </tr>\n",
       "    <tr>\n",
       "      <th>11</th>\n",
       "      <td>2016-04-14</td>\n",
       "      <td>Z3801</td>\n",
       "      <td>Single liveborn infant, delivered by cesarean</td>\n",
       "      <td>Certain conditions originating in the perinata...</td>\n",
       "      <td>Liveborn [218.]</td>\n",
       "      <td>Liveborn</td>\n",
       "    </tr>\n",
       "    <tr>\n",
       "      <th>12</th>\n",
       "      <td>2016-04-15</td>\n",
       "      <td>Z3801</td>\n",
       "      <td>Single liveborn infant, delivered by cesarean</td>\n",
       "      <td>Certain conditions originating in the perinata...</td>\n",
       "      <td>Liveborn [218.]</td>\n",
       "      <td>Liveborn</td>\n",
       "    </tr>\n",
       "    <tr>\n",
       "      <th>13</th>\n",
       "      <td>2016-04-16</td>\n",
       "      <td>Z3801</td>\n",
       "      <td>Single liveborn infant, delivered by cesarean</td>\n",
       "      <td>Certain conditions originating in the perinata...</td>\n",
       "      <td>Liveborn [218.]</td>\n",
       "      <td>Liveborn</td>\n",
       "    </tr>\n",
       "    <tr>\n",
       "      <th>14</th>\n",
       "      <td>2016-04-17</td>\n",
       "      <td>Z3801</td>\n",
       "      <td>Single liveborn infant, delivered by cesarean</td>\n",
       "      <td>Certain conditions originating in the perinata...</td>\n",
       "      <td>Liveborn [218.]</td>\n",
       "      <td>Liveborn</td>\n",
       "    </tr>\n",
       "  </tbody>\n",
       "</table>\n",
       "</div>"
      ],
      "text/plain": [
       "     date_svc   diag1                                          diag_desc  \\\n",
       "0  2015-12-06    N926                Irregular menstruation, unspecified   \n",
       "1  2015-12-06  O26842    Uterine size-date discrepancy, second trimester   \n",
       "2  2015-12-13  O26842    Uterine size-date discrepancy, second trimester   \n",
       "3  2016-02-29  O26843     Uterine size-date discrepancy, third trimester   \n",
       "4  2016-03-27  O26843     Uterine size-date discrepancy, third trimester   \n",
       "5  2016-04-03  O26843     Uterine size-date discrepancy, third trimester   \n",
       "6  2016-04-10  O26843     Uterine size-date discrepancy, third trimester   \n",
       "7  2016-04-11  O26843     Uterine size-date discrepancy, third trimester   \n",
       "8  2016-04-13   O3421  Maternal care for scar from previous cesarean ...   \n",
       "9  2016-04-13     O80     Encounter for full-term uncomplicated delivery   \n",
       "10 2016-04-13   Z3801      Single liveborn infant, delivered by cesarean   \n",
       "11 2016-04-14   Z3801      Single liveborn infant, delivered by cesarean   \n",
       "12 2016-04-15   Z3801      Single liveborn infant, delivered by cesarean   \n",
       "13 2016-04-16   Z3801      Single liveborn infant, delivered by cesarean   \n",
       "14 2016-04-17   Z3801      Single liveborn infant, delivered by cesarean   \n",
       "\n",
       "                                           ccs_1_desc  \\\n",
       "0                Diseases of the genitourinary system   \n",
       "1   Complications of pregnancy; childbirth; and th...   \n",
       "2   Complications of pregnancy; childbirth; and th...   \n",
       "3   Complications of pregnancy; childbirth; and th...   \n",
       "4   Complications of pregnancy; childbirth; and th...   \n",
       "5   Complications of pregnancy; childbirth; and th...   \n",
       "6   Complications of pregnancy; childbirth; and th...   \n",
       "7   Complications of pregnancy; childbirth; and th...   \n",
       "8   Complications of pregnancy; childbirth; and th...   \n",
       "9   Complications of pregnancy; childbirth; and th...   \n",
       "10  Certain conditions originating in the perinata...   \n",
       "11  Certain conditions originating in the perinata...   \n",
       "12  Certain conditions originating in the perinata...   \n",
       "13  Certain conditions originating in the perinata...   \n",
       "14  Certain conditions originating in the perinata...   \n",
       "\n",
       "                                           ccs_2_desc  \\\n",
       "0                   Diseases of female genital organs   \n",
       "1           Complications mainly related to pregnancy   \n",
       "2           Complications mainly related to pregnancy   \n",
       "3           Complications mainly related to pregnancy   \n",
       "4           Complications mainly related to pregnancy   \n",
       "5           Complications mainly related to pregnancy   \n",
       "6           Complications mainly related to pregnancy   \n",
       "7           Complications mainly related to pregnancy   \n",
       "8   Indications for care in pregnancy; labor; and ...   \n",
       "9             Normal pregnancy and/or delivery [196.]   \n",
       "10                                    Liveborn [218.]   \n",
       "11                                    Liveborn [218.]   \n",
       "12                                    Liveborn [218.]   \n",
       "13                                    Liveborn [218.]   \n",
       "14                                    Liveborn [218.]   \n",
       "\n",
       "                                       ccs_3_desc  \n",
       "0                             Menstrual disorders  \n",
       "1                Other complications of pregnancy  \n",
       "2                Other complications of pregnancy  \n",
       "3                Other complications of pregnancy  \n",
       "4                Other complications of pregnancy  \n",
       "5                Other complications of pregnancy  \n",
       "6                Other complications of pregnancy  \n",
       "7                Other complications of pregnancy  \n",
       "8                              Previous C-section  \n",
       "9   Other pregnancy and delivery including normal  \n",
       "10                                       Liveborn  \n",
       "11                                       Liveborn  \n",
       "12                                       Liveborn  \n",
       "13                                       Liveborn  \n",
       "14                                       Liveborn  "
      ]
     },
     "execution_count": 72,
     "metadata": {},
     "output_type": "execute_result"
    }
   ],
   "source": [
    "df[df.member_id == 'M0000001'][['date_svc', 'diag1', 'diag_desc', 'ccs_1_desc', 'ccs_2_desc', 'ccs_3_desc']]"
   ]
  },
  {
   "cell_type": "code",
   "execution_count": 73,
   "id": "b689053a",
   "metadata": {},
   "outputs": [
    {
     "data": {
      "text/html": [
       "<div>\n",
       "<style scoped>\n",
       "    .dataframe tbody tr th:only-of-type {\n",
       "        vertical-align: middle;\n",
       "    }\n",
       "\n",
       "    .dataframe tbody tr th {\n",
       "        vertical-align: top;\n",
       "    }\n",
       "\n",
       "    .dataframe thead th {\n",
       "        text-align: right;\n",
       "    }\n",
       "</style>\n",
       "<table border=\"1\" class=\"dataframe\">\n",
       "  <thead>\n",
       "    <tr style=\"text-align: right;\">\n",
       "      <th></th>\n",
       "      <th>diag1</th>\n",
       "      <th>diag_desc</th>\n",
       "      <th>ccs_1_desc</th>\n",
       "      <th>ccs_2_desc</th>\n",
       "      <th>ccs_3_desc</th>\n",
       "    </tr>\n",
       "  </thead>\n",
       "  <tbody>\n",
       "    <tr>\n",
       "      <th>0</th>\n",
       "      <td>N926</td>\n",
       "      <td>Irregular menstruation, unspecified</td>\n",
       "      <td>Diseases of the genitourinary system</td>\n",
       "      <td>Diseases of female genital organs</td>\n",
       "      <td>Menstrual disorders</td>\n",
       "    </tr>\n",
       "    <tr>\n",
       "      <th>1</th>\n",
       "      <td>O26842</td>\n",
       "      <td>Uterine size-date discrepancy, second trimester</td>\n",
       "      <td>Complications of pregnancy; childbirth; and th...</td>\n",
       "      <td>Complications mainly related to pregnancy</td>\n",
       "      <td>Other complications of pregnancy</td>\n",
       "    </tr>\n",
       "    <tr>\n",
       "      <th>3</th>\n",
       "      <td>O26843</td>\n",
       "      <td>Uterine size-date discrepancy, third trimester</td>\n",
       "      <td>Complications of pregnancy; childbirth; and th...</td>\n",
       "      <td>Complications mainly related to pregnancy</td>\n",
       "      <td>Other complications of pregnancy</td>\n",
       "    </tr>\n",
       "    <tr>\n",
       "      <th>8</th>\n",
       "      <td>O3421</td>\n",
       "      <td>Maternal care for scar from previous cesarean ...</td>\n",
       "      <td>Complications of pregnancy; childbirth; and th...</td>\n",
       "      <td>Indications for care in pregnancy; labor; and ...</td>\n",
       "      <td>Previous C-section</td>\n",
       "    </tr>\n",
       "    <tr>\n",
       "      <th>9</th>\n",
       "      <td>O80</td>\n",
       "      <td>Encounter for full-term uncomplicated delivery</td>\n",
       "      <td>Complications of pregnancy; childbirth; and th...</td>\n",
       "      <td>Normal pregnancy and/or delivery [196.]</td>\n",
       "      <td>Other pregnancy and delivery including normal</td>\n",
       "    </tr>\n",
       "    <tr>\n",
       "      <th>10</th>\n",
       "      <td>Z3801</td>\n",
       "      <td>Single liveborn infant, delivered by cesarean</td>\n",
       "      <td>Certain conditions originating in the perinata...</td>\n",
       "      <td>Liveborn [218.]</td>\n",
       "      <td>Liveborn</td>\n",
       "    </tr>\n",
       "  </tbody>\n",
       "</table>\n",
       "</div>"
      ],
      "text/plain": [
       "     diag1                                          diag_desc  \\\n",
       "0     N926                Irregular menstruation, unspecified   \n",
       "1   O26842    Uterine size-date discrepancy, second trimester   \n",
       "3   O26843     Uterine size-date discrepancy, third trimester   \n",
       "8    O3421  Maternal care for scar from previous cesarean ...   \n",
       "9      O80     Encounter for full-term uncomplicated delivery   \n",
       "10   Z3801      Single liveborn infant, delivered by cesarean   \n",
       "\n",
       "                                           ccs_1_desc  \\\n",
       "0                Diseases of the genitourinary system   \n",
       "1   Complications of pregnancy; childbirth; and th...   \n",
       "3   Complications of pregnancy; childbirth; and th...   \n",
       "8   Complications of pregnancy; childbirth; and th...   \n",
       "9   Complications of pregnancy; childbirth; and th...   \n",
       "10  Certain conditions originating in the perinata...   \n",
       "\n",
       "                                           ccs_2_desc  \\\n",
       "0                   Diseases of female genital organs   \n",
       "1           Complications mainly related to pregnancy   \n",
       "3           Complications mainly related to pregnancy   \n",
       "8   Indications for care in pregnancy; labor; and ...   \n",
       "9             Normal pregnancy and/or delivery [196.]   \n",
       "10                                    Liveborn [218.]   \n",
       "\n",
       "                                       ccs_3_desc  \n",
       "0                             Menstrual disorders  \n",
       "1                Other complications of pregnancy  \n",
       "3                Other complications of pregnancy  \n",
       "8                              Previous C-section  \n",
       "9   Other pregnancy and delivery including normal  \n",
       "10                                       Liveborn  "
      ]
     },
     "execution_count": 73,
     "metadata": {},
     "output_type": "execute_result"
    }
   ],
   "source": [
    "df[df.member_id == 'M0000001'][['diag1', 'diag_desc', 'ccs_1_desc', 'ccs_2_desc', 'ccs_3_desc']].drop_duplicates('diag1')"
   ]
  },
  {
   "cell_type": "code",
   "execution_count": 74,
   "id": "85651f85",
   "metadata": {},
   "outputs": [
    {
     "data": {
      "text/html": [
       "<div>\n",
       "<style scoped>\n",
       "    .dataframe tbody tr th:only-of-type {\n",
       "        vertical-align: middle;\n",
       "    }\n",
       "\n",
       "    .dataframe tbody tr th {\n",
       "        vertical-align: top;\n",
       "    }\n",
       "\n",
       "    .dataframe thead th {\n",
       "        text-align: right;\n",
       "    }\n",
       "</style>\n",
       "<table border=\"1\" class=\"dataframe\">\n",
       "  <thead>\n",
       "    <tr style=\"text-align: right;\">\n",
       "      <th></th>\n",
       "      <th>date_svc</th>\n",
       "      <th>diag1</th>\n",
       "      <th>diag_desc</th>\n",
       "      <th>ccs_1_desc</th>\n",
       "      <th>ccs_2_desc</th>\n",
       "      <th>ccs_3_desc</th>\n",
       "    </tr>\n",
       "  </thead>\n",
       "  <tbody>\n",
       "    <tr>\n",
       "      <th>15</th>\n",
       "      <td>2016-02-23</td>\n",
       "      <td>Z8249</td>\n",
       "      <td>Family hx of ischem heart dis and oth dis of t...</td>\n",
       "      <td>Residual codes; unclassified; all E codes [259...</td>\n",
       "      <td></td>\n",
       "      <td>Residual codes; unclassified</td>\n",
       "    </tr>\n",
       "    <tr>\n",
       "      <th>16</th>\n",
       "      <td>2017-01-31</td>\n",
       "      <td>F4320</td>\n",
       "      <td>Adjustment disorder, unspecified</td>\n",
       "      <td>Mental Illness</td>\n",
       "      <td>Adjustment disorders [650]</td>\n",
       "      <td>Adjustment disorders</td>\n",
       "    </tr>\n",
       "    <tr>\n",
       "      <th>17</th>\n",
       "      <td>2017-01-31</td>\n",
       "      <td>Z0000</td>\n",
       "      <td>Encntr for general adult medical exam w/o abno...</td>\n",
       "      <td>Symptoms; signs; and ill-defined conditions an...</td>\n",
       "      <td>Factors influencing health care</td>\n",
       "      <td>Medical examination/evaluation</td>\n",
       "    </tr>\n",
       "    <tr>\n",
       "      <th>18</th>\n",
       "      <td>2017-05-19</td>\n",
       "      <td>R079</td>\n",
       "      <td>Chest pain, unspecified</td>\n",
       "      <td>Diseases of the circulatory system</td>\n",
       "      <td>Diseases of the heart</td>\n",
       "      <td>Nonspecific chest pain</td>\n",
       "    </tr>\n",
       "    <tr>\n",
       "      <th>19</th>\n",
       "      <td>2017-05-20</td>\n",
       "      <td>R0789</td>\n",
       "      <td>Other chest pain</td>\n",
       "      <td>Diseases of the circulatory system</td>\n",
       "      <td>Diseases of the heart</td>\n",
       "      <td>Nonspecific chest pain</td>\n",
       "    </tr>\n",
       "    <tr>\n",
       "      <th>20</th>\n",
       "      <td>2017-06-05</td>\n",
       "      <td>I25118</td>\n",
       "      <td>Athscl heart disease of native cor art w oth a...</td>\n",
       "      <td>Diseases of the circulatory system</td>\n",
       "      <td>Diseases of the heart</td>\n",
       "      <td>Coronary atherosclerosis and other heart disease</td>\n",
       "    </tr>\n",
       "  </tbody>\n",
       "</table>\n",
       "</div>"
      ],
      "text/plain": [
       "     date_svc   diag1                                          diag_desc  \\\n",
       "15 2016-02-23   Z8249  Family hx of ischem heart dis and oth dis of t...   \n",
       "16 2017-01-31   F4320                   Adjustment disorder, unspecified   \n",
       "17 2017-01-31   Z0000  Encntr for general adult medical exam w/o abno...   \n",
       "18 2017-05-19    R079                            Chest pain, unspecified   \n",
       "19 2017-05-20   R0789                                   Other chest pain   \n",
       "20 2017-06-05  I25118  Athscl heart disease of native cor art w oth a...   \n",
       "\n",
       "                                           ccs_1_desc  \\\n",
       "15  Residual codes; unclassified; all E codes [259...   \n",
       "16                                     Mental Illness   \n",
       "17  Symptoms; signs; and ill-defined conditions an...   \n",
       "18                 Diseases of the circulatory system   \n",
       "19                 Diseases of the circulatory system   \n",
       "20                 Diseases of the circulatory system   \n",
       "\n",
       "                         ccs_2_desc  \\\n",
       "15                                    \n",
       "16       Adjustment disorders [650]   \n",
       "17  Factors influencing health care   \n",
       "18            Diseases of the heart   \n",
       "19            Diseases of the heart   \n",
       "20            Diseases of the heart   \n",
       "\n",
       "                                          ccs_3_desc  \n",
       "15                      Residual codes; unclassified  \n",
       "16                              Adjustment disorders  \n",
       "17                    Medical examination/evaluation  \n",
       "18                            Nonspecific chest pain  \n",
       "19                            Nonspecific chest pain  \n",
       "20  Coronary atherosclerosis and other heart disease  "
      ]
     },
     "execution_count": 74,
     "metadata": {},
     "output_type": "execute_result"
    }
   ],
   "source": [
    "df[df.member_id == 'M0000002'][['date_svc', 'diag1', 'diag_desc', 'ccs_1_desc', 'ccs_2_desc', 'ccs_3_desc']]"
   ]
  },
  {
   "cell_type": "code",
   "execution_count": 75,
   "id": "53d3942f",
   "metadata": {},
   "outputs": [
    {
     "data": {
      "text/html": [
       "<div>\n",
       "<style scoped>\n",
       "    .dataframe tbody tr th:only-of-type {\n",
       "        vertical-align: middle;\n",
       "    }\n",
       "\n",
       "    .dataframe tbody tr th {\n",
       "        vertical-align: top;\n",
       "    }\n",
       "\n",
       "    .dataframe thead th {\n",
       "        text-align: right;\n",
       "    }\n",
       "</style>\n",
       "<table border=\"1\" class=\"dataframe\">\n",
       "  <thead>\n",
       "    <tr style=\"text-align: right;\">\n",
       "      <th></th>\n",
       "      <th>diag1</th>\n",
       "      <th>diag_desc</th>\n",
       "      <th>ccs_1_desc</th>\n",
       "      <th>ccs_2_desc</th>\n",
       "      <th>ccs_3_desc</th>\n",
       "    </tr>\n",
       "  </thead>\n",
       "  <tbody>\n",
       "    <tr>\n",
       "      <th>15</th>\n",
       "      <td>Z8249</td>\n",
       "      <td>Family hx of ischem heart dis and oth dis of t...</td>\n",
       "      <td>Residual codes; unclassified; all E codes [259...</td>\n",
       "      <td></td>\n",
       "      <td>Residual codes; unclassified</td>\n",
       "    </tr>\n",
       "    <tr>\n",
       "      <th>16</th>\n",
       "      <td>F4320</td>\n",
       "      <td>Adjustment disorder, unspecified</td>\n",
       "      <td>Mental Illness</td>\n",
       "      <td>Adjustment disorders [650]</td>\n",
       "      <td>Adjustment disorders</td>\n",
       "    </tr>\n",
       "    <tr>\n",
       "      <th>17</th>\n",
       "      <td>Z0000</td>\n",
       "      <td>Encntr for general adult medical exam w/o abno...</td>\n",
       "      <td>Symptoms; signs; and ill-defined conditions an...</td>\n",
       "      <td>Factors influencing health care</td>\n",
       "      <td>Medical examination/evaluation</td>\n",
       "    </tr>\n",
       "    <tr>\n",
       "      <th>18</th>\n",
       "      <td>R079</td>\n",
       "      <td>Chest pain, unspecified</td>\n",
       "      <td>Diseases of the circulatory system</td>\n",
       "      <td>Diseases of the heart</td>\n",
       "      <td>Nonspecific chest pain</td>\n",
       "    </tr>\n",
       "    <tr>\n",
       "      <th>19</th>\n",
       "      <td>R0789</td>\n",
       "      <td>Other chest pain</td>\n",
       "      <td>Diseases of the circulatory system</td>\n",
       "      <td>Diseases of the heart</td>\n",
       "      <td>Nonspecific chest pain</td>\n",
       "    </tr>\n",
       "    <tr>\n",
       "      <th>20</th>\n",
       "      <td>I25118</td>\n",
       "      <td>Athscl heart disease of native cor art w oth a...</td>\n",
       "      <td>Diseases of the circulatory system</td>\n",
       "      <td>Diseases of the heart</td>\n",
       "      <td>Coronary atherosclerosis and other heart disease</td>\n",
       "    </tr>\n",
       "  </tbody>\n",
       "</table>\n",
       "</div>"
      ],
      "text/plain": [
       "     diag1                                          diag_desc  \\\n",
       "15   Z8249  Family hx of ischem heart dis and oth dis of t...   \n",
       "16   F4320                   Adjustment disorder, unspecified   \n",
       "17   Z0000  Encntr for general adult medical exam w/o abno...   \n",
       "18    R079                            Chest pain, unspecified   \n",
       "19   R0789                                   Other chest pain   \n",
       "20  I25118  Athscl heart disease of native cor art w oth a...   \n",
       "\n",
       "                                           ccs_1_desc  \\\n",
       "15  Residual codes; unclassified; all E codes [259...   \n",
       "16                                     Mental Illness   \n",
       "17  Symptoms; signs; and ill-defined conditions an...   \n",
       "18                 Diseases of the circulatory system   \n",
       "19                 Diseases of the circulatory system   \n",
       "20                 Diseases of the circulatory system   \n",
       "\n",
       "                         ccs_2_desc  \\\n",
       "15                                    \n",
       "16       Adjustment disorders [650]   \n",
       "17  Factors influencing health care   \n",
       "18            Diseases of the heart   \n",
       "19            Diseases of the heart   \n",
       "20            Diseases of the heart   \n",
       "\n",
       "                                          ccs_3_desc  \n",
       "15                      Residual codes; unclassified  \n",
       "16                              Adjustment disorders  \n",
       "17                    Medical examination/evaluation  \n",
       "18                            Nonspecific chest pain  \n",
       "19                            Nonspecific chest pain  \n",
       "20  Coronary atherosclerosis and other heart disease  "
      ]
     },
     "execution_count": 75,
     "metadata": {},
     "output_type": "execute_result"
    }
   ],
   "source": [
    "df[df.member_id == 'M0000002'][['diag1', 'diag_desc', 'ccs_1_desc', 'ccs_2_desc', 'ccs_3_desc']].drop_duplicates('diag1')"
   ]
  },
  {
   "cell_type": "code",
   "execution_count": 76,
   "id": "b1977943",
   "metadata": {},
   "outputs": [
    {
     "data": {
      "text/html": [
       "<div>\n",
       "<style scoped>\n",
       "    .dataframe tbody tr th:only-of-type {\n",
       "        vertical-align: middle;\n",
       "    }\n",
       "\n",
       "    .dataframe tbody tr th {\n",
       "        vertical-align: top;\n",
       "    }\n",
       "\n",
       "    .dataframe thead th {\n",
       "        text-align: right;\n",
       "    }\n",
       "</style>\n",
       "<table border=\"1\" class=\"dataframe\">\n",
       "  <thead>\n",
       "    <tr style=\"text-align: right;\">\n",
       "      <th></th>\n",
       "      <th>diag_desc</th>\n",
       "      <th>ccs_1_desc</th>\n",
       "      <th>ccs_2_desc</th>\n",
       "      <th>ccs_3_desc</th>\n",
       "    </tr>\n",
       "  </thead>\n",
       "  <tbody>\n",
       "    <tr>\n",
       "      <th>17</th>\n",
       "      <td>Encntr for general adult medical exam w/o abno...</td>\n",
       "      <td>Symptoms; signs; and ill-defined conditions an...</td>\n",
       "      <td>Factors influencing health care</td>\n",
       "      <td>Medical examination/evaluation</td>\n",
       "    </tr>\n",
       "    <tr>\n",
       "      <th>23</th>\n",
       "      <td>Encntr for general adult medical exam w/o abno...</td>\n",
       "      <td>Symptoms; signs; and ill-defined conditions an...</td>\n",
       "      <td>Factors influencing health care</td>\n",
       "      <td>Medical examination/evaluation</td>\n",
       "    </tr>\n",
       "    <tr>\n",
       "      <th>28</th>\n",
       "      <td>Encntr for general adult medical exam w/o abno...</td>\n",
       "      <td>Symptoms; signs; and ill-defined conditions an...</td>\n",
       "      <td>Factors influencing health care</td>\n",
       "      <td>Medical examination/evaluation</td>\n",
       "    </tr>\n",
       "    <tr>\n",
       "      <th>41</th>\n",
       "      <td>Encounter for suspected problem with fetal gro...</td>\n",
       "      <td>Symptoms; signs; and ill-defined conditions an...</td>\n",
       "      <td>Factors influencing health care</td>\n",
       "      <td>Other screening for suspected conditions (not ...</td>\n",
       "    </tr>\n",
       "    <tr>\n",
       "      <th>43</th>\n",
       "      <td>Encounter for suspected problem with fetal gro...</td>\n",
       "      <td>Symptoms; signs; and ill-defined conditions an...</td>\n",
       "      <td>Factors influencing health care</td>\n",
       "      <td>Other screening for suspected conditions (not ...</td>\n",
       "    </tr>\n",
       "    <tr>\n",
       "      <th>59</th>\n",
       "      <td>Encntr for gyn exam (general) (routine) w/o ab...</td>\n",
       "      <td>Symptoms; signs; and ill-defined conditions an...</td>\n",
       "      <td>Factors influencing health care</td>\n",
       "      <td>Medical examination/evaluation</td>\n",
       "    </tr>\n",
       "    <tr>\n",
       "      <th>66</th>\n",
       "      <td>Encounter for antenatal screening of mother</td>\n",
       "      <td>Symptoms; signs; and ill-defined conditions an...</td>\n",
       "      <td>Factors influencing health care</td>\n",
       "      <td>Other screening for suspected conditions (not ...</td>\n",
       "    </tr>\n",
       "    <tr>\n",
       "      <th>69</th>\n",
       "      <td>Encounter for antenatal screening of mother</td>\n",
       "      <td>Symptoms; signs; and ill-defined conditions an...</td>\n",
       "      <td>Factors influencing health care</td>\n",
       "      <td>Other screening for suspected conditions (not ...</td>\n",
       "    </tr>\n",
       "    <tr>\n",
       "      <th>76</th>\n",
       "      <td>Other specified counseling</td>\n",
       "      <td>Symptoms; signs; and ill-defined conditions an...</td>\n",
       "      <td>Factors influencing health care</td>\n",
       "      <td>Administrative/social admission</td>\n",
       "    </tr>\n",
       "    <tr>\n",
       "      <th>77</th>\n",
       "      <td>Encntr for general adult medical exam w/o abno...</td>\n",
       "      <td>Symptoms; signs; and ill-defined conditions an...</td>\n",
       "      <td>Factors influencing health care</td>\n",
       "      <td>Medical examination/evaluation</td>\n",
       "    </tr>\n",
       "  </tbody>\n",
       "</table>\n",
       "</div>"
      ],
      "text/plain": [
       "                                            diag_desc  \\\n",
       "17  Encntr for general adult medical exam w/o abno...   \n",
       "23  Encntr for general adult medical exam w/o abno...   \n",
       "28  Encntr for general adult medical exam w/o abno...   \n",
       "41  Encounter for suspected problem with fetal gro...   \n",
       "43  Encounter for suspected problem with fetal gro...   \n",
       "59  Encntr for gyn exam (general) (routine) w/o ab...   \n",
       "66        Encounter for antenatal screening of mother   \n",
       "69        Encounter for antenatal screening of mother   \n",
       "76                         Other specified counseling   \n",
       "77  Encntr for general adult medical exam w/o abno...   \n",
       "\n",
       "                                           ccs_1_desc  \\\n",
       "17  Symptoms; signs; and ill-defined conditions an...   \n",
       "23  Symptoms; signs; and ill-defined conditions an...   \n",
       "28  Symptoms; signs; and ill-defined conditions an...   \n",
       "41  Symptoms; signs; and ill-defined conditions an...   \n",
       "43  Symptoms; signs; and ill-defined conditions an...   \n",
       "59  Symptoms; signs; and ill-defined conditions an...   \n",
       "66  Symptoms; signs; and ill-defined conditions an...   \n",
       "69  Symptoms; signs; and ill-defined conditions an...   \n",
       "76  Symptoms; signs; and ill-defined conditions an...   \n",
       "77  Symptoms; signs; and ill-defined conditions an...   \n",
       "\n",
       "                         ccs_2_desc  \\\n",
       "17  Factors influencing health care   \n",
       "23  Factors influencing health care   \n",
       "28  Factors influencing health care   \n",
       "41  Factors influencing health care   \n",
       "43  Factors influencing health care   \n",
       "59  Factors influencing health care   \n",
       "66  Factors influencing health care   \n",
       "69  Factors influencing health care   \n",
       "76  Factors influencing health care   \n",
       "77  Factors influencing health care   \n",
       "\n",
       "                                           ccs_3_desc  \n",
       "17                     Medical examination/evaluation  \n",
       "23                     Medical examination/evaluation  \n",
       "28                     Medical examination/evaluation  \n",
       "41  Other screening for suspected conditions (not ...  \n",
       "43  Other screening for suspected conditions (not ...  \n",
       "59                     Medical examination/evaluation  \n",
       "66  Other screening for suspected conditions (not ...  \n",
       "69  Other screening for suspected conditions (not ...  \n",
       "76                    Administrative/social admission  \n",
       "77                     Medical examination/evaluation  "
      ]
     },
     "execution_count": 76,
     "metadata": {},
     "output_type": "execute_result"
    }
   ],
   "source": [
    "df[df.ccs_2_desc == 'Factors influencing health care'].head(10)[['diag_desc', 'ccs_1_desc', 'ccs_2_desc', 'ccs_3_desc']]"
   ]
  },
  {
   "cell_type": "code",
   "execution_count": 83,
   "id": "26133d74",
   "metadata": {},
   "outputs": [
    {
     "data": {
      "text/plain": [
       "count    245165.000000\n",
       "mean          7.831138\n",
       "std          14.923971\n",
       "min           1.000000\n",
       "25%           2.000000\n",
       "50%           4.000000\n",
       "75%           8.000000\n",
       "max         921.000000\n",
       "Name: record_id, dtype: float64"
      ]
     },
     "execution_count": 83,
     "metadata": {},
     "output_type": "execute_result"
    }
   ],
   "source": [
    "df.groupby('member_id').count()['record_id'].describe()"
   ]
  },
  {
   "cell_type": "markdown",
   "id": "0146be26",
   "metadata": {},
   "source": [
    "##### Median and mean are pretty close to each other so there aren't too many members with an extremely high count of claims."
   ]
  },
  {
   "cell_type": "markdown",
   "id": "ae3da6cb",
   "metadata": {},
   "source": [
    "##### Given more time I would want to investigate some of the members with a high number of claims to see if those are members with chronic health issues or potentially a data issue."
   ]
  },
  {
   "cell_type": "markdown",
   "id": "ab556ccd",
   "metadata": {},
   "source": [
    "## 1. Build a characterization of a member’s health status based on their outpatient data."
   ]
  },
  {
   "cell_type": "markdown",
   "id": "73f562e2",
   "metadata": {},
   "source": [
    "There are many approaches for characterizing a member's health status from their outpatient data. I will outline and discuss several.\n",
    "1. Since ccs_1_desc seems to be the most high level diagnosis, we could get all of the distinct values found in this column for a member and construct it into a sentence. To make the sentence shorter, we can only select the most frequent or two most frequent values.\n",
    "    - The downside of this approach is it may create a profile that is out of date or that  ignores the other conditions they have been diagnosed with.\n",
    "2. Create a mapping that categorizes conditions as Chronic, Acute, or Other. Including this information in the health profile will tell us if we expect an individual to continuously refill medication and vice versa.\n",
    "    - Downside is that this requires domain knowledge and it is a lot of work to make a mapping for all conditions. Moreover, there could be nuances with certain conditions that make it more difficult to categorize.\n",
    "3. More complicated health status may take into account frequency and recency of visits to determine the most relevant health conditions to the current status.\n",
    "    - Further EDA would be necessary, but you could create some coefficient value that is a weighted combination of recency and frequency of the different conditions and pick the most relevant ones based on this coefficient.\n",
    "    - Downside is that you may be ignoring conditions that a member was diagnosed with, but doesn't necessarily need follow up. The member may have very infrequent checks for this condition and may not be taking medications for it, but it is still relevant to the health status.\n",
    "4. Summarizing outpatient data using an LLM and prompt engineering. This can be taken a step further by labeling data with desired summaries and finetuning the model to this specific task.\n",
    "    - This option is the most work, but with good prompt engineering and fine tuning, you can achieve a very robust health status that can be translated to different audiences. \n",
    "    - This option may also not be ideal with the second task in the pdf in mind.\n",
    "    - Experimenting with different prompts would be essential"
   ]
  },
  {
   "cell_type": "markdown",
   "id": "be85482c",
   "metadata": {},
   "source": [
    "##### After spot checking some records, I've come to the conclusion that diag_desc is too granular and won't be as useful for providing a high level characterization of a person's health status given the time constraints. However, for future work, it could be useful for additional feature extraction when trying to determine what could be prescribed based on the diagnosis description. "
   ]
  },
  {
   "cell_type": "code",
   "execution_count": 124,
   "id": "cddef405",
   "metadata": {},
   "outputs": [
    {
     "data": {
      "text/html": [
       "<div>\n",
       "<style scoped>\n",
       "    .dataframe tbody tr th:only-of-type {\n",
       "        vertical-align: middle;\n",
       "    }\n",
       "\n",
       "    .dataframe tbody tr th {\n",
       "        vertical-align: top;\n",
       "    }\n",
       "\n",
       "    .dataframe thead th {\n",
       "        text-align: right;\n",
       "    }\n",
       "</style>\n",
       "<table border=\"1\" class=\"dataframe\">\n",
       "  <thead>\n",
       "    <tr style=\"text-align: right;\">\n",
       "      <th></th>\n",
       "      <th>record_id</th>\n",
       "      <th>member_id</th>\n",
       "      <th>date_svc</th>\n",
       "      <th>diag1</th>\n",
       "      <th>diag</th>\n",
       "      <th>diag_desc</th>\n",
       "      <th>ccs_1_desc</th>\n",
       "      <th>ccs_2_desc</th>\n",
       "      <th>ccs_3_desc</th>\n",
       "    </tr>\n",
       "  </thead>\n",
       "  <tbody>\n",
       "    <tr>\n",
       "      <th>0</th>\n",
       "      <td>57738</td>\n",
       "      <td>M0000001</td>\n",
       "      <td>2015-12-06</td>\n",
       "      <td>N926</td>\n",
       "      <td>N926</td>\n",
       "      <td>Irregular menstruation, unspecified</td>\n",
       "      <td>Diseases of the genitourinary system</td>\n",
       "      <td>Diseases of female genital organs</td>\n",
       "      <td>Menstrual disorders</td>\n",
       "    </tr>\n",
       "    <tr>\n",
       "      <th>1</th>\n",
       "      <td>57750</td>\n",
       "      <td>M0000001</td>\n",
       "      <td>2015-12-06</td>\n",
       "      <td>O26842</td>\n",
       "      <td>O26842</td>\n",
       "      <td>Uterine size-date discrepancy, second trimester</td>\n",
       "      <td>Complications of pregnancy; childbirth; and th...</td>\n",
       "      <td>Complications mainly related to pregnancy</td>\n",
       "      <td>Other complications of pregnancy</td>\n",
       "    </tr>\n",
       "    <tr>\n",
       "      <th>2</th>\n",
       "      <td>65072</td>\n",
       "      <td>M0000001</td>\n",
       "      <td>2015-12-13</td>\n",
       "      <td>O26842</td>\n",
       "      <td>O26842</td>\n",
       "      <td>Uterine size-date discrepancy, second trimester</td>\n",
       "      <td>Complications of pregnancy; childbirth; and th...</td>\n",
       "      <td>Complications mainly related to pregnancy</td>\n",
       "      <td>Other complications of pregnancy</td>\n",
       "    </tr>\n",
       "    <tr>\n",
       "      <th>3</th>\n",
       "      <td>201796</td>\n",
       "      <td>M0000001</td>\n",
       "      <td>2016-02-29</td>\n",
       "      <td>O26843</td>\n",
       "      <td>O26843</td>\n",
       "      <td>Uterine size-date discrepancy, third trimester</td>\n",
       "      <td>Complications of pregnancy; childbirth; and th...</td>\n",
       "      <td>Complications mainly related to pregnancy</td>\n",
       "      <td>Other complications of pregnancy</td>\n",
       "    </tr>\n",
       "    <tr>\n",
       "      <th>4</th>\n",
       "      <td>267197</td>\n",
       "      <td>M0000001</td>\n",
       "      <td>2016-03-27</td>\n",
       "      <td>O26843</td>\n",
       "      <td>O26843</td>\n",
       "      <td>Uterine size-date discrepancy, third trimester</td>\n",
       "      <td>Complications of pregnancy; childbirth; and th...</td>\n",
       "      <td>Complications mainly related to pregnancy</td>\n",
       "      <td>Other complications of pregnancy</td>\n",
       "    </tr>\n",
       "  </tbody>\n",
       "</table>\n",
       "</div>"
      ],
      "text/plain": [
       "   record_id member_id   date_svc   diag1    diag  \\\n",
       "0      57738  M0000001 2015-12-06    N926    N926   \n",
       "1      57750  M0000001 2015-12-06  O26842  O26842   \n",
       "2      65072  M0000001 2015-12-13  O26842  O26842   \n",
       "3     201796  M0000001 2016-02-29  O26843  O26843   \n",
       "4     267197  M0000001 2016-03-27  O26843  O26843   \n",
       "\n",
       "                                         diag_desc  \\\n",
       "0              Irregular menstruation, unspecified   \n",
       "1  Uterine size-date discrepancy, second trimester   \n",
       "2  Uterine size-date discrepancy, second trimester   \n",
       "3   Uterine size-date discrepancy, third trimester   \n",
       "4   Uterine size-date discrepancy, third trimester   \n",
       "\n",
       "                                          ccs_1_desc  \\\n",
       "0               Diseases of the genitourinary system   \n",
       "1  Complications of pregnancy; childbirth; and th...   \n",
       "2  Complications of pregnancy; childbirth; and th...   \n",
       "3  Complications of pregnancy; childbirth; and th...   \n",
       "4  Complications of pregnancy; childbirth; and th...   \n",
       "\n",
       "                                  ccs_2_desc                        ccs_3_desc  \n",
       "0          Diseases of female genital organs               Menstrual disorders  \n",
       "1  Complications mainly related to pregnancy  Other complications of pregnancy  \n",
       "2  Complications mainly related to pregnancy  Other complications of pregnancy  \n",
       "3  Complications mainly related to pregnancy  Other complications of pregnancy  \n",
       "4  Complications mainly related to pregnancy  Other complications of pregnancy  "
      ]
     },
     "execution_count": 124,
     "metadata": {},
     "output_type": "execute_result"
    }
   ],
   "source": [
    "df.head()"
   ]
  },
  {
   "cell_type": "code",
   "execution_count": 125,
   "id": "6be14114",
   "metadata": {},
   "outputs": [],
   "source": [
    "member_health_status = df.groupby('member_id').agg(Most_Common_Condition=('ccs_1_desc', lambda x: x.value_counts().index[0] if len(x.value_counts())>0 else None))\n",
    "\n",
    "member_health_status.reset_index(inplace=True)"
   ]
  },
  {
   "cell_type": "code",
   "execution_count": 202,
   "id": "ed19b84b",
   "metadata": {},
   "outputs": [],
   "source": [
    "def print_health_status(member_id):\n",
    "    member = member_health_status[member_health_status['member_id'] == member_id].iloc[0]\n",
    "    print(f\"Member {member_id} has been diagnosed primarily with {member['Most_Common_Condition']}.\")\n",
    "    \n",
    "def get_health_status(member_id, date):\n",
    "    member_data = df[(df['member_id'] == member_id) & (df['date_svc'] <= date)]\n",
    "    if member_data.empty:\n",
    "        return 'No Data'\n",
    "    else:\n",
    "        health_status = member_data.agg(Most_Common_Condition=('ccs_1_desc', \n",
    "                                                               lambda x: x.value_counts().index[0] \n",
    "                                                               if not x.empty and len(x.value_counts()) > 0 \n",
    "                                                               else 'No Condition')).iloc[0][0]\n",
    "        return health_status\n",
    "\n"
   ]
  },
  {
   "cell_type": "code",
   "execution_count": 136,
   "id": "00ccf5d0",
   "metadata": {},
   "outputs": [
    {
     "name": "stdout",
     "output_type": "stream",
     "text": [
      "Member M0000001 has been diagnosed primarily with Complications of pregnancy; childbirth; and the puerperium.\n"
     ]
    }
   ],
   "source": [
    "print_health_status('M0000001')"
   ]
  },
  {
   "cell_type": "markdown",
   "id": "e44a9890",
   "metadata": {},
   "source": [
    "##### This is a very simple implementation of a health profile. Given additional time other options that were outlined could be explored."
   ]
  },
  {
   "cell_type": "markdown",
   "id": "23cec192",
   "metadata": {},
   "source": [
    "##### Below I experiment with the output from gpt 3.5"
   ]
  },
  {
   "cell_type": "code",
   "execution_count": 117,
   "id": "14d96131",
   "metadata": {},
   "outputs": [],
   "source": [
    "openai.api_key = os.getenv('OPENAI_API_KEY')"
   ]
  },
  {
   "cell_type": "code",
   "execution_count": 184,
   "id": "6fc8d8dd",
   "metadata": {},
   "outputs": [],
   "source": [
    "prompt = '''\n",
    "Provide a high level description of a members health status.\n",
    "The input consists of the date of the claim (date_svc), diagnostic description (diag_desc) and \n",
    "three outputs from clinical classification software ('ccs_1_desc', 'ccs_2_desc', 'ccs_3_desc').\n",
    "Not all information will be available for each member. Limit your response to the high level health conditions in one sentence. Data: {}\n",
    "'''"
   ]
  },
  {
   "cell_type": "code",
   "execution_count": 238,
   "id": "33fc3f1c",
   "metadata": {},
   "outputs": [],
   "source": [
    "test_prompt = '''\n",
    "Given the following outpatient data for a patient, please provide a high-level summary of their health status \n",
    "using Clinical Classifications Software (CCS) mapping. Summarize key health events, conditions, or diseases \n",
    "such as chronic illnesses, recent injuries, or surgeries, but it doesn't need to be overly detailed. \n",
    "The goal is to provide a one sentence robust and useful characterization of the member's health status. Data: {}\n",
    "'''"
   ]
  },
  {
   "cell_type": "code",
   "execution_count": 145,
   "id": "53afeb8b",
   "metadata": {},
   "outputs": [],
   "source": [
    "input_data = df[df.member_id == 'M0000001'][['date_svc', 'diag1', 'diag_desc', 'ccs_1_desc', 'ccs_2_desc', 'ccs_3_desc']]"
   ]
  },
  {
   "cell_type": "code",
   "execution_count": 146,
   "id": "98774c12",
   "metadata": {
    "scrolled": true
   },
   "outputs": [
    {
     "data": {
      "text/plain": [
       "{'date_svc': {0: Timestamp('2015-12-06 00:00:00'),\n",
       "  1: Timestamp('2015-12-06 00:00:00'),\n",
       "  2: Timestamp('2015-12-13 00:00:00'),\n",
       "  3: Timestamp('2016-02-29 00:00:00'),\n",
       "  4: Timestamp('2016-03-27 00:00:00'),\n",
       "  5: Timestamp('2016-04-03 00:00:00'),\n",
       "  6: Timestamp('2016-04-10 00:00:00'),\n",
       "  7: Timestamp('2016-04-11 00:00:00'),\n",
       "  8: Timestamp('2016-04-13 00:00:00'),\n",
       "  9: Timestamp('2016-04-13 00:00:00'),\n",
       "  10: Timestamp('2016-04-13 00:00:00'),\n",
       "  11: Timestamp('2016-04-14 00:00:00'),\n",
       "  12: Timestamp('2016-04-15 00:00:00'),\n",
       "  13: Timestamp('2016-04-16 00:00:00'),\n",
       "  14: Timestamp('2016-04-17 00:00:00')},\n",
       " 'diag1': {0: 'N926',\n",
       "  1: 'O26842',\n",
       "  2: 'O26842',\n",
       "  3: 'O26843',\n",
       "  4: 'O26843',\n",
       "  5: 'O26843',\n",
       "  6: 'O26843',\n",
       "  7: 'O26843',\n",
       "  8: 'O3421',\n",
       "  9: 'O80',\n",
       "  10: 'Z3801',\n",
       "  11: 'Z3801',\n",
       "  12: 'Z3801',\n",
       "  13: 'Z3801',\n",
       "  14: 'Z3801'},\n",
       " 'diag_desc': {0: 'Irregular menstruation, unspecified',\n",
       "  1: 'Uterine size-date discrepancy, second trimester',\n",
       "  2: 'Uterine size-date discrepancy, second trimester',\n",
       "  3: 'Uterine size-date discrepancy, third trimester',\n",
       "  4: 'Uterine size-date discrepancy, third trimester',\n",
       "  5: 'Uterine size-date discrepancy, third trimester',\n",
       "  6: 'Uterine size-date discrepancy, third trimester',\n",
       "  7: 'Uterine size-date discrepancy, third trimester',\n",
       "  8: 'Maternal care for scar from previous cesarean delivery',\n",
       "  9: 'Encounter for full-term uncomplicated delivery',\n",
       "  10: 'Single liveborn infant, delivered by cesarean',\n",
       "  11: 'Single liveborn infant, delivered by cesarean',\n",
       "  12: 'Single liveborn infant, delivered by cesarean',\n",
       "  13: 'Single liveborn infant, delivered by cesarean',\n",
       "  14: 'Single liveborn infant, delivered by cesarean'},\n",
       " 'ccs_1_desc': {0: 'Diseases of the genitourinary system',\n",
       "  1: 'Complications of pregnancy; childbirth; and the puerperium',\n",
       "  2: 'Complications of pregnancy; childbirth; and the puerperium',\n",
       "  3: 'Complications of pregnancy; childbirth; and the puerperium',\n",
       "  4: 'Complications of pregnancy; childbirth; and the puerperium',\n",
       "  5: 'Complications of pregnancy; childbirth; and the puerperium',\n",
       "  6: 'Complications of pregnancy; childbirth; and the puerperium',\n",
       "  7: 'Complications of pregnancy; childbirth; and the puerperium',\n",
       "  8: 'Complications of pregnancy; childbirth; and the puerperium',\n",
       "  9: 'Complications of pregnancy; childbirth; and the puerperium',\n",
       "  10: 'Certain conditions originating in the perinatal period',\n",
       "  11: 'Certain conditions originating in the perinatal period',\n",
       "  12: 'Certain conditions originating in the perinatal period',\n",
       "  13: 'Certain conditions originating in the perinatal period',\n",
       "  14: 'Certain conditions originating in the perinatal period'},\n",
       " 'ccs_2_desc': {0: 'Diseases of female genital organs',\n",
       "  1: 'Complications mainly related to pregnancy',\n",
       "  2: 'Complications mainly related to pregnancy',\n",
       "  3: 'Complications mainly related to pregnancy',\n",
       "  4: 'Complications mainly related to pregnancy',\n",
       "  5: 'Complications mainly related to pregnancy',\n",
       "  6: 'Complications mainly related to pregnancy',\n",
       "  7: 'Complications mainly related to pregnancy',\n",
       "  8: 'Indications for care in pregnancy; labor; and delivery',\n",
       "  9: 'Normal pregnancy and/or delivery [196.]',\n",
       "  10: 'Liveborn [218.]',\n",
       "  11: 'Liveborn [218.]',\n",
       "  12: 'Liveborn [218.]',\n",
       "  13: 'Liveborn [218.]',\n",
       "  14: 'Liveborn [218.]'},\n",
       " 'ccs_3_desc': {0: 'Menstrual disorders',\n",
       "  1: 'Other complications of pregnancy',\n",
       "  2: 'Other complications of pregnancy',\n",
       "  3: 'Other complications of pregnancy',\n",
       "  4: 'Other complications of pregnancy',\n",
       "  5: 'Other complications of pregnancy',\n",
       "  6: 'Other complications of pregnancy',\n",
       "  7: 'Other complications of pregnancy',\n",
       "  8: 'Previous C-section',\n",
       "  9: 'Other pregnancy and delivery including normal',\n",
       "  10: 'Liveborn',\n",
       "  11: 'Liveborn',\n",
       "  12: 'Liveborn',\n",
       "  13: 'Liveborn',\n",
       "  14: 'Liveborn'}}"
      ]
     },
     "execution_count": 146,
     "metadata": {},
     "output_type": "execute_result"
    }
   ],
   "source": [
    "input_data.to_dict()"
   ]
  },
  {
   "cell_type": "code",
   "execution_count": 185,
   "id": "8f982865",
   "metadata": {},
   "outputs": [
    {
     "data": {
      "text/plain": [
       "\"The member's high level health conditions include irregular menstruation, uterine size-date discrepancy, complications of pregnancy, and delivery of a single liveborn infant by cesarean.\""
      ]
     },
     "execution_count": 185,
     "metadata": {},
     "output_type": "execute_result"
    }
   ],
   "source": [
    "res = openai.ChatCompletion.create(model=\"gpt-3.5-turbo\", \n",
    "                                   max_tokens=100,\n",
    "                                   temperature=0.7,\n",
    "                                   top_p=0.5,\n",
    "                                   frequency_penalty=0.5,\n",
    "                                   messages=[\n",
    "                                       {\n",
    "                                           \"role\": \"system\",\n",
    "                                           \"content\": \"You are a helpful assistant for medical record summarization.\",\n",
    "                                       },\n",
    "                                       {\n",
    "                                           \"role\": \"user\",\n",
    "                                           \"content\": prompt.format(input_data.to_dict()),\n",
    "                                       },\n",
    "                                   ],\n",
    "                                  )\n",
    "res[\"choices\"][0][\"message\"][\"content\"]"
   ]
  },
  {
   "cell_type": "code",
   "execution_count": 239,
   "id": "01c67def",
   "metadata": {},
   "outputs": [
    {
     "data": {
      "text/plain": [
       "'The patient has a history of irregular menstruation and uterine size-date discrepancy during pregnancy, with subsequent complications mainly related to pregnancy. They underwent a cesarean delivery and delivered a single liveborn infant.'"
      ]
     },
     "execution_count": 239,
     "metadata": {},
     "output_type": "execute_result"
    }
   ],
   "source": [
    "res = openai.ChatCompletion.create(model=\"gpt-3.5-turbo\", \n",
    "                                   max_tokens=100,\n",
    "                                   temperature=0.7,\n",
    "                                   top_p=0.5,\n",
    "                                   frequency_penalty=0.5,\n",
    "                                   messages=[\n",
    "                                       {\n",
    "                                           \"role\": \"system\",\n",
    "                                           \"content\": \"You are a helpful and exrtemely concise assistant for medical record summarization.\",\n",
    "                                       },\n",
    "                                       {\n",
    "                                           \"role\": \"user\",\n",
    "                                           \"content\": test_prompt.format(input_data.to_dict()),\n",
    "                                       },\n",
    "                                   ],\n",
    "                                  )\n",
    "res[\"choices\"][0][\"message\"][\"content\"]"
   ]
  },
  {
   "cell_type": "code",
   "execution_count": 242,
   "id": "c42761d8",
   "metadata": {},
   "outputs": [
    {
     "data": {
      "text/plain": [
       "\"The patient has a history of irregular menstruation, uterine size-date discrepancy during pregnancy, and has undergone a previous cesarean delivery. They recently had an uncomplicated full-term delivery via cesarean section. Overall, the patient's health status is related to complications of pregnancy and childbirth.\""
      ]
     },
     "execution_count": 242,
     "metadata": {},
     "output_type": "execute_result"
    }
   ],
   "source": [
    "res = openai.ChatCompletion.create(model=\"gpt-3.5-turbo\", \n",
    "                                   max_tokens=100,\n",
    "                                   temperature=0.7,\n",
    "                                   top_p=0.5,\n",
    "                                   frequency_penalty=0.5,\n",
    "                                   messages=[\n",
    "                                       {\n",
    "                                           \"role\": \"system\",\n",
    "                                           \"content\": \"You are a helpful and exrtemely concise assistant for medical record summarization.\",\n",
    "                                       },\n",
    "                                       {\n",
    "                                           \"role\": \"user\",\n",
    "                                           \"content\": test_prompt.format(input_data.to_dict()),\n",
    "                                       },\n",
    "                                   ],\n",
    "                                  )\n",
    "res[\"choices\"][0][\"message\"][\"content\"]"
   ]
  },
  {
   "cell_type": "markdown",
   "id": "0d294492",
   "metadata": {},
   "source": [
    "## 2. Investigate how to infer this health status from the prescription drug data alone"
   ]
  },
  {
   "cell_type": "markdown",
   "id": "5e607934",
   "metadata": {},
   "source": [
    "##### We will proceed with the simple option of health status for this step. We cannot apply the function to the dataset as is because during training and testing, the prescription could have been filled at any point. So, the health status needs to be determined as of the time of the prescription being filled."
   ]
  },
  {
   "cell_type": "code",
   "execution_count": 147,
   "id": "633e2fe6",
   "metadata": {},
   "outputs": [
    {
     "data": {
      "text/html": [
       "<div>\n",
       "<style scoped>\n",
       "    .dataframe tbody tr th:only-of-type {\n",
       "        vertical-align: middle;\n",
       "    }\n",
       "\n",
       "    .dataframe tbody tr th {\n",
       "        vertical-align: top;\n",
       "    }\n",
       "\n",
       "    .dataframe thead th {\n",
       "        text-align: right;\n",
       "    }\n",
       "</style>\n",
       "<table border=\"1\" class=\"dataframe\">\n",
       "  <thead>\n",
       "    <tr style=\"text-align: right;\">\n",
       "      <th></th>\n",
       "      <th>record_id</th>\n",
       "      <th>member_id</th>\n",
       "      <th>date_svc</th>\n",
       "      <th>ndc</th>\n",
       "      <th>drug_category</th>\n",
       "      <th>drug_group</th>\n",
       "      <th>drug_class</th>\n",
       "      <th>YearMonth</th>\n",
       "    </tr>\n",
       "  </thead>\n",
       "  <tbody>\n",
       "    <tr>\n",
       "      <th>0</th>\n",
       "      <td>4115084976453758912</td>\n",
       "      <td>M0023556</td>\n",
       "      <td>2016-05-08</td>\n",
       "      <td>51285040702</td>\n",
       "      <td>Estrogens</td>\n",
       "      <td>Estrogens</td>\n",
       "      <td>Estrogens</td>\n",
       "      <td>2016-05</td>\n",
       "    </tr>\n",
       "    <tr>\n",
       "      <th>1</th>\n",
       "      <td>1750642805638674193</td>\n",
       "      <td>M0087538</td>\n",
       "      <td>2016-12-05</td>\n",
       "      <td>50474080303</td>\n",
       "      <td>Antiparkinson and Related Therapy Agents</td>\n",
       "      <td>Antiparkinson Dopaminergics</td>\n",
       "      <td>Nonergoline Dopamine Receptor Agonists</td>\n",
       "      <td>2016-12</td>\n",
       "    </tr>\n",
       "    <tr>\n",
       "      <th>2</th>\n",
       "      <td>5543689263541245391</td>\n",
       "      <td>M0049608</td>\n",
       "      <td>2018-01-18</td>\n",
       "      <td>3089421</td>\n",
       "      <td>Anticoagulants</td>\n",
       "      <td>Direct Factor Xa Inhibitors</td>\n",
       "      <td>Direct Factor Xa Inhibitors</td>\n",
       "      <td>2018-01</td>\n",
       "    </tr>\n",
       "    <tr>\n",
       "      <th>3</th>\n",
       "      <td>5952194046467620061</td>\n",
       "      <td>M0175153</td>\n",
       "      <td>2017-01-28</td>\n",
       "      <td>603580321</td>\n",
       "      <td>Gastrointestinal Agents - Misc.</td>\n",
       "      <td>Inflammatory Bowel Agents</td>\n",
       "      <td>Inflammatory Bowel Agents</td>\n",
       "      <td>2017-01</td>\n",
       "    </tr>\n",
       "    <tr>\n",
       "      <th>4</th>\n",
       "      <td>1809570950798791089</td>\n",
       "      <td>M0152187</td>\n",
       "      <td>2016-05-13</td>\n",
       "      <td>591396501</td>\n",
       "      <td>Progestins</td>\n",
       "      <td>Progestins</td>\n",
       "      <td>Progestins</td>\n",
       "      <td>2016-05</td>\n",
       "    </tr>\n",
       "  </tbody>\n",
       "</table>\n",
       "</div>"
      ],
      "text/plain": [
       "             record_id member_id   date_svc          ndc  \\\n",
       "0  4115084976453758912  M0023556 2016-05-08  51285040702   \n",
       "1  1750642805638674193  M0087538 2016-12-05  50474080303   \n",
       "2  5543689263541245391  M0049608 2018-01-18      3089421   \n",
       "3  5952194046467620061  M0175153 2017-01-28    603580321   \n",
       "4  1809570950798791089  M0152187 2016-05-13    591396501   \n",
       "\n",
       "                              drug_category                   drug_group  \\\n",
       "0                                 Estrogens                    Estrogens   \n",
       "1  Antiparkinson and Related Therapy Agents  Antiparkinson Dopaminergics   \n",
       "2                            Anticoagulants  Direct Factor Xa Inhibitors   \n",
       "3           Gastrointestinal Agents - Misc.    Inflammatory Bowel Agents   \n",
       "4                                Progestins                   Progestins   \n",
       "\n",
       "                               drug_class YearMonth  \n",
       "0                               Estrogens   2016-05  \n",
       "1  Nonergoline Dopamine Receptor Agonists   2016-12  \n",
       "2             Direct Factor Xa Inhibitors   2018-01  \n",
       "3               Inflammatory Bowel Agents   2017-01  \n",
       "4                              Progestins   2016-05  "
      ]
     },
     "execution_count": 147,
     "metadata": {},
     "output_type": "execute_result"
    }
   ],
   "source": [
    "prescription_drugs.head()"
   ]
  },
  {
   "cell_type": "code",
   "execution_count": 203,
   "id": "b225fc18",
   "metadata": {},
   "outputs": [],
   "source": [
    "health_status = prescription_drugs.apply(lambda row: get_health_status(member_id=row['member_id'], \n",
    "                                                                       date=row['date_svc']), axis=1)"
   ]
  },
  {
   "cell_type": "code",
   "execution_count": null,
   "id": "034397d8",
   "metadata": {},
   "outputs": [],
   "source": [
    "prescription_drugs['health_status'] = health_status"
   ]
  },
  {
   "cell_type": "markdown",
   "id": "852a4c16",
   "metadata": {},
   "source": [
    "##### Lets add some features that may be useful"
   ]
  },
  {
   "cell_type": "code",
   "execution_count": null,
   "id": "cf187cfa",
   "metadata": {},
   "outputs": [],
   "source": [
    "for col in ['drug_category', 'drug_group', 'drug_class']:\n",
    "    prescription_drugs[col] = prescription_drugs[col].astype('category')\n",
    "\n",
    "for col in ['drug_category', 'drug_group', 'drug_class']:\n",
    "    prescription_drugs[f'total_unique_{col}'] = prescription_drugs.groupby(['member_id', col]).cumcount() + 1\n",
    "\n",
    "for col in ['drug_category', 'drug_group', 'drug_class']:\n",
    "    prescription_drugs[f'total_unique_{col}'] = prescription_drugs.groupby(['member_id', 'date_svc'])[f'total_unique_{col}'].transform(max)"
   ]
  },
  {
   "cell_type": "code",
   "execution_count": null,
   "id": "e974eb04",
   "metadata": {},
   "outputs": [],
   "source": [
    "categorical_cols = ['drug_category', 'drug_group', 'drug_class']\n",
    "\n",
    "numeric_cols = ['total_unique_drug_category', \n",
    "                'total_unique_drug_group', 'total_unique_drug_class']\n",
    "\n",
    "features = categorical_cols + numeric_cols\n",
    "\n",
    "target = 'health_status'\n",
    "\n",
    "X_train, X_test, y_train, y_test = train_test_split(prescription_drugs[features], \n",
    "                                                    prescription_drugs[target], \n",
    "                                                    test_size=0.2, random_state=42)\n",
    "\n",
    "cat_transformer = Pipeline(steps=[\n",
    "    ('imputer', SimpleImputer(strategy='constant', fill_value='missing')),\n",
    "    ('onehot', OneHotEncoder(handle_unknown='ignore'))])\n",
    "\n",
    "num_transformer = StandardScaler()\n",
    "\n",
    "preprocessor = ColumnTransformer(\n",
    "    transformers=[\n",
    "        ('num', num_transformer, numeric_cols),\n",
    "        ('cat', cat_transformer, categorical_cols)])\n",
    "\n",
    "pipeline = Pipeline(steps=[('preprocessor', preprocessor),\n",
    "                           ('classifier', GradientBoostingClassifier(random_state=42))])\n",
    "\n",
    "pipeline.fit(X_train, y_train)\n",
    "\n",
    "y_pred = pipeline.predict(X_test)\n",
    "\n",
    "print(classification_report(y_test, y_pred))\n",
    "print(confusion_matrix(y_test, y_pred))\n",
    "\n",
    "model = pipeline.named_steps['classifier']"
   ]
  },
  {
   "cell_type": "markdown",
   "id": "c3a0b75c",
   "metadata": {},
   "source": [
    "Due to the size of datasets, it is taking a very long time for me to run some of these things locally. I provided the code that I would like to use, but did not run everything. Obviously, this would be a first iteration model and additional steps could be taken to improve it. Examples of steps that could be taken to improve the model are cross validation, additional feature engineering, experimentation with other models, feature importance, and optimizing for different reward functions depending on the use case.\n",
    "\n",
    "I expect the base model to perform decently well due to the relatively loose health status definition that we constructed. One of the more difficult constructions would also require more feature engineering work for comparable performance. More useful health status could be constructed through a combination of recency and frequency of diagnosis and could even potentially take into account prescription drug history.\n",
    "\n",
    "Our model could be used to identify members that are either receiving a prescription they should not be receiving or not receiving a prescription that they potentially should be. It could be used in a larger ecosystem for cost estimation and projecting prescriptions that will be filled in the future. \n",
    "\n",
    "The LLM approach could give a summarized medical history for the customer as a front facing interface.\n",
    "\n",
    "I didn't tie together the prescription data with the claims data, but that would be an additional step to do. To do this however, EDA would need to be done to see the relationship between when a claim occurs and when a prescription is filled. Even though a member had a claim, they could potentially wait weeks to fill it and maybe even have other claims in between. This relationship should be studied and domain knowledge should also be taken into account."
   ]
  },
  {
   "cell_type": "code",
   "execution_count": null,
   "id": "0d90377b",
   "metadata": {},
   "outputs": [],
   "source": []
  },
  {
   "cell_type": "code",
   "execution_count": null,
   "id": "4aedb924",
   "metadata": {},
   "outputs": [],
   "source": []
  },
  {
   "cell_type": "code",
   "execution_count": null,
   "id": "727fd871",
   "metadata": {},
   "outputs": [],
   "source": []
  },
  {
   "cell_type": "code",
   "execution_count": null,
   "id": "d5ea3589",
   "metadata": {},
   "outputs": [],
   "source": []
  },
  {
   "cell_type": "code",
   "execution_count": null,
   "id": "dfd3674a",
   "metadata": {},
   "outputs": [],
   "source": []
  }
 ],
 "metadata": {
  "kernelspec": {
   "display_name": "Python 3 (ipykernel)",
   "language": "python",
   "name": "python3"
  },
  "language_info": {
   "codemirror_mode": {
    "name": "ipython",
    "version": 3
   },
   "file_extension": ".py",
   "mimetype": "text/x-python",
   "name": "python",
   "nbconvert_exporter": "python",
   "pygments_lexer": "ipython3",
   "version": "3.10.9"
  }
 },
 "nbformat": 4,
 "nbformat_minor": 5
}
